{
  "nbformat": 4,
  "nbformat_minor": 0,
  "metadata": {
    "colab": {
      "name": "MDS_HW1_PichuzhkinaOV.ipynb",
      "provenance": [],
      "collapsed_sections": []
    },
    "kernelspec": {
      "name": "python3",
      "display_name": "Python 3"
    },
    "accelerator": "GPU"
  },
  "cells": [
    {
      "cell_type": "code",
      "metadata": {
        "id": "dyorLZEJbUfT"
      },
      "source": [
        "import numpy as np\n",
        "import matplotlib.pyplot as plt"
      ],
      "execution_count": 1,
      "outputs": []
    },
    {
      "cell_type": "code",
      "metadata": {
        "id": "5qY541Akbtms"
      },
      "source": [
        "x = np.array([1., 1.])\n",
        "y = np.array([2., 0.])\n",
        "z = np.array([0., 2.])"
      ],
      "execution_count": 2,
      "outputs": []
    },
    {
      "cell_type": "code",
      "metadata": {
        "id": "gwU5iFTZdMGc"
      },
      "source": [
        "v = x + y + z"
      ],
      "execution_count": 3,
      "outputs": []
    },
    {
      "cell_type": "code",
      "metadata": {
        "colab": {
          "base_uri": "https://localhost:8080/"
        },
        "id": "JLcMlSr5dVOc",
        "outputId": "a037dfd2-33a7-4dba-c077-dd163df01868"
      },
      "source": [
        "v"
      ],
      "execution_count": 4,
      "outputs": [
        {
          "output_type": "execute_result",
          "data": {
            "text/plain": [
              "array([3., 3.])"
            ]
          },
          "metadata": {
            "tags": []
          },
          "execution_count": 4
        }
      ]
    },
    {
      "cell_type": "code",
      "metadata": {
        "colab": {
          "base_uri": "https://localhost:8080/",
          "height": 483
        },
        "id": "4eyVCCBlcIkE",
        "outputId": "d6b14e0e-f3d8-45dd-ced1-6109624beae9"
      },
      "source": [
        "plt.figure(figsize=(12, 8))\n",
        "plt.plot(x[0], x[1], 'o', label='X', markersize=10.0)\n",
        "plt.plot(y[0], y[1], 'o', label='Y', markersize=10.0)\n",
        "plt.plot(z[0], z[1], 'o', label='Z', markersize=10.0)\n",
        "plt.plot(v[0], v[1], 'o', label='X + Y + Z', markersize=10.0)\n",
        "plt.grid()\n",
        "plt.legend(fontsize='xx-large')\n",
        "plt.show()"
      ],
      "execution_count": 5,
      "outputs": [
        {
          "output_type": "display_data",
          "data": {
            "image/png": "[encoded data removed]",
            "text/plain": [
              "<Figure size 864x576 with 1 Axes>"
            ]
          },
          "metadata": {
            "tags": [],
            "needs_background": "light"
          }
        }
      ]
    },
    {
      "cell_type": "code",
      "metadata": {
        "colab": {
          "base_uri": "https://localhost:8080/"
        },
        "id": "kyaIqyzAi7wY",
        "outputId": "95147a5e-92a6-420f-f3e0-8839e2d298c2"
      },
      "source": [
        "np.dot(x, y)"
      ],
      "execution_count": 6,
      "outputs": [
        {
          "output_type": "execute_result",
          "data": {
            "text/plain": [
              "2.0"
            ]
          },
          "metadata": {
            "tags": []
          },
          "execution_count": 6
        }
      ]
    },
    {
      "cell_type": "code",
      "metadata": {
        "id": "ChikmfbZi8HZ"
      },
      "source": [
        "cos_angle_x_y = np.dot(x, y) / (2 * np.sqrt(2)) = 1 / sqrt(2) = sqrt(2) / 2"
      ],
      "execution_count": null,
      "outputs": []
    },
    {
      "cell_type": "markdown",
      "metadata": {
        "id": "rWbunQhIkR1i"
      },
      "source": [
        "Косинус угла между x и y равен sqrt(2)/2, соответственно, **угол между x и y равен 45 градусов.**\n"
      ]
    },
    {
      "cell_type": "code",
      "metadata": {
        "id": "lA8wTr9Lkvlu"
      },
      "source": [
        ""
      ],
      "execution_count": null,
      "outputs": []
    }
  ]
}
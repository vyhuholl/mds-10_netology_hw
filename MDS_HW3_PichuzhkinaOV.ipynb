{
  "nbformat": 4,
  "nbformat_minor": 0,
  "metadata": {
    "colab": {
      "name": "MDS_HW3_PichuzhkinaOV.ipynb",
      "provenance": [],
      "collapsed_sections": []
    },
    "kernelspec": {
      "name": "python3",
      "display_name": "Python 3"
    },
    "accelerator": "GPU",
    "widgets": {
      "application/vnd.jupyter.widget-state+json": {
        "02ff17c8848b4a6696a7d2448c921cbe": {
          "model_module": "@jupyter-widgets/controls",
          "model_name": "HBoxModel",
          "state": {
            "_view_name": "HBoxView",
            "_dom_classes": [],
            "_model_name": "HBoxModel",
            "_view_module": "@jupyter-widgets/controls",
            "_model_module_version": "1.5.0",
            "_view_count": null,
            "_view_module_version": "1.5.0",
            "box_style": "",
            "layout": "IPY_MODEL_a06acb02790e4af3bbd176af039866d0",
            "_model_module": "@jupyter-widgets/controls",
            "children": [
              "IPY_MODEL_e7806c6781ce45d1bba5133b2b81106c",
              "IPY_MODEL_bbccbbfc376d45eb8c563dac0ab99337"
            ]
          }
        },
        "a06acb02790e4af3bbd176af039866d0": {
          "model_module": "@jupyter-widgets/base",
          "model_name": "LayoutModel",
          "state": {
            "_view_name": "LayoutView",
            "grid_template_rows": null,
            "right": null,
            "justify_content": null,
            "_view_module": "@jupyter-widgets/base",
            "overflow": null,
            "_model_module_version": "1.2.0",
            "_view_count": null,
            "flex_flow": null,
            "width": null,
            "min_width": null,
            "border": null,
            "align_items": null,
            "bottom": null,
            "_model_module": "@jupyter-widgets/base",
            "top": null,
            "grid_column": null,
            "overflow_y": null,
            "overflow_x": null,
            "grid_auto_flow": null,
            "grid_area": null,
            "grid_template_columns": null,
            "flex": null,
            "_model_name": "LayoutModel",
            "justify_items": null,
            "grid_row": null,
            "max_height": null,
            "align_content": null,
            "visibility": null,
            "align_self": null,
            "height": null,
            "min_height": null,
            "padding": null,
            "grid_auto_rows": null,
            "grid_gap": null,
            "max_width": null,
            "order": null,
            "_view_module_version": "1.2.0",
            "grid_template_areas": null,
            "object_position": null,
            "object_fit": null,
            "grid_auto_columns": null,
            "margin": null,
            "display": null,
            "left": null
          }
        },
        "e7806c6781ce45d1bba5133b2b81106c": {
          "model_module": "@jupyter-widgets/controls",
          "model_name": "FloatProgressModel",
          "state": {
            "_view_name": "ProgressView",
            "style": "IPY_MODEL_3f7a6497311346cc92d16f92f0720b9e",
            "_dom_classes": [],
            "description": "100%",
            "_model_name": "FloatProgressModel",
            "bar_style": "success",
            "max": 64,
            "_view_module": "@jupyter-widgets/controls",
            "_model_module_version": "1.5.0",
            "value": 64,
            "_view_count": null,
            "_view_module_version": "1.5.0",
            "orientation": "horizontal",
            "min": 0,
            "description_tooltip": null,
            "_model_module": "@jupyter-widgets/controls",
            "layout": "IPY_MODEL_b2b5d8d010b144b69a9e6fb181951db4"
          }
        },
        "bbccbbfc376d45eb8c563dac0ab99337": {
          "model_module": "@jupyter-widgets/controls",
          "model_name": "HTMLModel",
          "state": {
            "_view_name": "HTMLView",
            "style": "IPY_MODEL_d8f53ac9efa54752baddbf5d33fbbb57",
            "_dom_classes": [],
            "description": "",
            "_model_name": "HTMLModel",
            "placeholder": "​",
            "_view_module": "@jupyter-widgets/controls",
            "_model_module_version": "1.5.0",
            "value": " 64/64 [00:07&lt;00:00,  8.84it/s]",
            "_view_count": null,
            "_view_module_version": "1.5.0",
            "description_tooltip": null,
            "_model_module": "@jupyter-widgets/controls",
            "layout": "IPY_MODEL_08d759c0340344b8bdd1ea801dd763ba"
          }
        },
        "3f7a6497311346cc92d16f92f0720b9e": {
          "model_module": "@jupyter-widgets/controls",
          "model_name": "ProgressStyleModel",
          "state": {
            "_view_name": "StyleView",
            "_model_name": "ProgressStyleModel",
            "description_width": "initial",
            "_view_module": "@jupyter-widgets/base",
            "_model_module_version": "1.5.0",
            "_view_count": null,
            "_view_module_version": "1.2.0",
            "bar_color": null,
            "_model_module": "@jupyter-widgets/controls"
          }
        },
        "b2b5d8d010b144b69a9e6fb181951db4": {
          "model_module": "@jupyter-widgets/base",
          "model_name": "LayoutModel",
          "state": {
            "_view_name": "LayoutView",
            "grid_template_rows": null,
            "right": null,
            "justify_content": null,
            "_view_module": "@jupyter-widgets/base",
            "overflow": null,
            "_model_module_version": "1.2.0",
            "_view_count": null,
            "flex_flow": null,
            "width": null,
            "min_width": null,
            "border": null,
            "align_items": null,
            "bottom": null,
            "_model_module": "@jupyter-widgets/base",
            "top": null,
            "grid_column": null,
            "overflow_y": null,
            "overflow_x": null,
            "grid_auto_flow": null,
            "grid_area": null,
            "grid_template_columns": null,
            "flex": null,
            "_model_name": "LayoutModel",
            "justify_items": null,
            "grid_row": null,
            "max_height": null,
            "align_content": null,
            "visibility": null,
            "align_self": null,
            "height": null,
            "min_height": null,
            "padding": null,
            "grid_auto_rows": null,
            "grid_gap": null,
            "max_width": null,
            "order": null,
            "_view_module_version": "1.2.0",
            "grid_template_areas": null,
            "object_position": null,
            "object_fit": null,
            "grid_auto_columns": null,
            "margin": null,
            "display": null,
            "left": null
          }
        },
        "d8f53ac9efa54752baddbf5d33fbbb57": {
          "model_module": "@jupyter-widgets/controls",
          "model_name": "DescriptionStyleModel",
          "state": {
            "_view_name": "StyleView",
            "_model_name": "DescriptionStyleModel",
            "description_width": "",
            "_view_module": "@jupyter-widgets/base",
            "_model_module_version": "1.5.0",
            "_view_count": null,
            "_view_module_version": "1.2.0",
            "_model_module": "@jupyter-widgets/controls"
          }
        },
        "08d759c0340344b8bdd1ea801dd763ba": {
          "model_module": "@jupyter-widgets/base",
          "model_name": "LayoutModel",
          "state": {
            "_view_name": "LayoutView",
            "grid_template_rows": null,
            "right": null,
            "justify_content": null,
            "_view_module": "@jupyter-widgets/base",
            "overflow": null,
            "_model_module_version": "1.2.0",
            "_view_count": null,
            "flex_flow": null,
            "width": null,
            "min_width": null,
            "border": null,
            "align_items": null,
            "bottom": null,
            "_model_module": "@jupyter-widgets/base",
            "top": null,
            "grid_column": null,
            "overflow_y": null,
            "overflow_x": null,
            "grid_auto_flow": null,
            "grid_area": null,
            "grid_template_columns": null,
            "flex": null,
            "_model_name": "LayoutModel",
            "justify_items": null,
            "grid_row": null,
            "max_height": null,
            "align_content": null,
            "visibility": null,
            "align_self": null,
            "height": null,
            "min_height": null,
            "padding": null,
            "grid_auto_rows": null,
            "grid_gap": null,
            "max_width": null,
            "order": null,
            "_view_module_version": "1.2.0",
            "grid_template_areas": null,
            "object_position": null,
            "object_fit": null,
            "grid_auto_columns": null,
            "margin": null,
            "display": null,
            "left": null
          }
        }
      }
    }
  },
  "cells": [
    {
      "cell_type": "code",
      "metadata": {
        "id": "yrDZEsMhQ2rB"
      },
      "source": [
        "import numpy as np\n",
        "import matplotlib.pyplot as plt\n",
        "from tqdm.notebook import tqdm\n",
        "from sklearn.decomposition import PCA\n",
        "from sklearn.datasets import load_digits\n",
        "from sklearn.metrics import mean_squared_error"
      ],
      "execution_count": 1,
      "outputs": []
    },
    {
      "cell_type": "markdown",
      "metadata": {
        "id": "bB2oBjKVRKCu"
      },
      "source": [
        "# Уровень 0\n",
        "*   диагональная, ортогональная, но не единичная"
      ]
    },
    {
      "cell_type": "code",
      "metadata": {
        "id": "wQCKLoT1RMMK"
      },
      "source": [
        "X = np.array([[1., 0.],\n",
        "              [0., -1.]])"
      ],
      "execution_count": 2,
      "outputs": []
    },
    {
      "cell_type": "code",
      "metadata": {
        "colab": {
          "base_uri": "https://localhost:8080/"
        },
        "id": "3wjbo3f2S8kT",
        "outputId": "f9fd08c8-4c2e-41d0-fd28-a9c8bdac90d8"
      },
      "source": [
        "X # диагональная, не единичная"
      ],
      "execution_count": 3,
      "outputs": [
        {
          "output_type": "execute_result",
          "data": {
            "text/plain": [
              "array([[ 1.,  0.],\n",
              "       [ 0., -1.]])"
            ]
          },
          "metadata": {
            "tags": []
          },
          "execution_count": 3
        }
      ]
    },
    {
      "cell_type": "code",
      "metadata": {
        "colab": {
          "base_uri": "https://localhost:8080/"
        },
        "id": "NXe7w61gTBXC",
        "outputId": "e82a26b8-077e-4c33-abdf-e8148afbbb7f"
      },
      "source": [
        "# докажем, что ортогональная\n",
        "X.dot(X.transpose())"
      ],
      "execution_count": 4,
      "outputs": [
        {
          "output_type": "execute_result",
          "data": {
            "text/plain": [
              "array([[1., 0.],\n",
              "       [0., 1.]])"
            ]
          },
          "metadata": {
            "tags": []
          },
          "execution_count": 4
        }
      ]
    },
    {
      "cell_type": "markdown",
      "metadata": {
        "id": "hWbEXZaPTwtr"
      },
      "source": [
        "*   верхнетреугольная, ортогональная"
      ]
    },
    {
      "cell_type": "code",
      "metadata": {
        "colab": {
          "base_uri": "https://localhost:8080/"
        },
        "id": "m3ZW8zn8UDqu",
        "outputId": "c19ac68d-b380-40a3-a30e-bc0e2019532c"
      },
      "source": [
        "X # диагональная матрица является одновременно и верхнетреугольной (:"
      ],
      "execution_count": 5,
      "outputs": [
        {
          "output_type": "execute_result",
          "data": {
            "text/plain": [
              "array([[ 1.,  0.],\n",
              "       [ 0., -1.]])"
            ]
          },
          "metadata": {
            "tags": []
          },
          "execution_count": 5
        }
      ]
    },
    {
      "cell_type": "markdown",
      "metadata": {
        "id": "5ZPaSZ7dUVFW"
      },
      "source": [
        "*   нижнетреугольная, ортогональная"
      ]
    },
    {
      "cell_type": "code",
      "metadata": {
        "colab": {
          "base_uri": "https://localhost:8080/"
        },
        "id": "MtnTCmrcUXlc",
        "outputId": "48694d4b-63db-4598-fbe4-042da50eae01"
      },
      "source": [
        "X # и нижнетреугольной (:"
      ],
      "execution_count": 6,
      "outputs": [
        {
          "output_type": "execute_result",
          "data": {
            "text/plain": [
              "array([[ 1.,  0.],\n",
              "       [ 0., -1.]])"
            ]
          },
          "metadata": {
            "tags": []
          },
          "execution_count": 6
        }
      ]
    },
    {
      "cell_type": "markdown",
      "metadata": {
        "id": "3_oPRVgnUyTs"
      },
      "source": [
        "*   матрица, у которой определитель = 1, и все элементы не равны 0"
      ]
    },
    {
      "cell_type": "code",
      "metadata": {
        "id": "5mBNrnNDWWMW"
      },
      "source": [
        "x = np.pi * np.random.random_sample()"
      ],
      "execution_count": 7,
      "outputs": []
    },
    {
      "cell_type": "code",
      "metadata": {
        "colab": {
          "base_uri": "https://localhost:8080/"
        },
        "id": "EbFQPG6dWgId",
        "outputId": "37b70b16-a573-4522-b42b-6d1aa7e149b5"
      },
      "source": [
        "x"
      ],
      "execution_count": 8,
      "outputs": [
        {
          "output_type": "execute_result",
          "data": {
            "text/plain": [
              "2.3885985574138813"
            ]
          },
          "metadata": {
            "tags": []
          },
          "execution_count": 8
        }
      ]
    },
    {
      "cell_type": "code",
      "metadata": {
        "id": "dL9P68OsWl8a"
      },
      "source": [
        "Y = np.array([[np.sin(x), np.cos(x)],\n",
        "              [-np.cos(x), np.sin(x)]])"
      ],
      "execution_count": 9,
      "outputs": []
    },
    {
      "cell_type": "code",
      "metadata": {
        "colab": {
          "base_uri": "https://localhost:8080/"
        },
        "id": "luT3rVJ9XBxg",
        "outputId": "62348537-4506-42c4-dbcf-90128717b802"
      },
      "source": [
        "Y # все элементы ненулевые"
      ],
      "execution_count": 10,
      "outputs": [
        {
          "output_type": "execute_result",
          "data": {
            "text/plain": [
              "array([[ 0.68382645, -0.7296447 ],\n",
              "       [ 0.7296447 ,  0.68382645]])"
            ]
          },
          "metadata": {
            "tags": []
          },
          "execution_count": 10
        }
      ]
    },
    {
      "cell_type": "code",
      "metadata": {
        "colab": {
          "base_uri": "https://localhost:8080/"
        },
        "id": "7qh3sOCPXNBA",
        "outputId": "fbfd0cbb-9cc1-4cfd-f056-d5ac65d450a3"
      },
      "source": [
        "np.linalg.det(Y) # det(Y) = sin(x)^2 + cos(x)^2 = 1 (:"
      ],
      "execution_count": 11,
      "outputs": [
        {
          "output_type": "execute_result",
          "data": {
            "text/plain": [
              "1.0"
            ]
          },
          "metadata": {
            "tags": []
          },
          "execution_count": 11
        }
      ]
    },
    {
      "cell_type": "markdown",
      "metadata": {
        "id": "bY_TFgliYhbp"
      },
      "source": [
        "Собственное значение и собственный вектор матрицы m."
      ]
    },
    {
      "cell_type": "code",
      "metadata": {
        "id": "nh8Qt9fdYyeF"
      },
      "source": [
        "m = np.array([[2., 2.],\n",
        "              [1., 3.]])"
      ],
      "execution_count": 12,
      "outputs": []
    },
    {
      "cell_type": "code",
      "metadata": {
        "colab": {
          "base_uri": "https://localhost:8080/"
        },
        "id": "XHazf2DgZC0B",
        "outputId": "eb7d2791-8141-4c83-b64f-92ef91c75b4b"
      },
      "source": [
        "m"
      ],
      "execution_count": 13,
      "outputs": [
        {
          "output_type": "execute_result",
          "data": {
            "text/plain": [
              "array([[2., 2.],\n",
              "       [1., 3.]])"
            ]
          },
          "metadata": {
            "tags": []
          },
          "execution_count": 13
        }
      ]
    },
    {
      "cell_type": "markdown",
      "metadata": {
        "id": "UA_I9Wh-uYEg"
      },
      "source": [
        "Найдём собственные значения."
      ]
    },
    {
      "cell_type": "code",
      "metadata": {
        "id": "18ICS7baZdVn"
      },
      "source": [
        "# det(np.array([[2 - w, 2], [2, 3 - w]])) = 0\n",
        "# (2 - w) * (3 - w) - 2 = 0\n",
        "# w^2 - 5w + 4 = 0\n",
        "# w_1, w_2 = 1, 4"
      ],
      "execution_count": 14,
      "outputs": []
    },
    {
      "cell_type": "markdown",
      "metadata": {
        "id": "FfP6KWTzg5et"
      },
      "source": [
        "Найдём собственные вектора."
      ]
    },
    {
      "cell_type": "code",
      "metadata": {
        "id": "a1wXza8phRCA"
      },
      "source": [
        "# w_1 = 1\n",
        "# x + 2 * y = 0\n",
        "# v_1 = (x, y) = (2, -1)\n",
        "\n",
        "# w_2 = 4\n",
        "# x - y = 0\n",
        "# v_2 = (x, y) = (1, 1)"
      ],
      "execution_count": 15,
      "outputs": []
    },
    {
      "cell_type": "markdown",
      "metadata": {
        "id": "MILenw9VRMhV"
      },
      "source": [
        "# Уровень 1\n",
        "Спектральное разложение матрицы m."
      ]
    },
    {
      "cell_type": "code",
      "metadata": {
        "id": "w2K3fzM4RNJ8"
      },
      "source": [
        "m = np.array([[1., 2.],\n",
        "              [2., 3.]])"
      ],
      "execution_count": 16,
      "outputs": []
    },
    {
      "cell_type": "code",
      "metadata": {
        "colab": {
          "base_uri": "https://localhost:8080/"
        },
        "id": "M8xkjFF6ZWRJ",
        "outputId": "e352d274-0dad-41db-a30e-907b7ac93bcb"
      },
      "source": [
        "m"
      ],
      "execution_count": 17,
      "outputs": [
        {
          "output_type": "execute_result",
          "data": {
            "text/plain": [
              "array([[1., 2.],\n",
              "       [2., 3.]])"
            ]
          },
          "metadata": {
            "tags": []
          },
          "execution_count": 17
        }
      ]
    },
    {
      "cell_type": "markdown",
      "metadata": {
        "id": "2TJKCWcyZjxC"
      },
      "source": [
        "Найдём собственные значения и собственные вектора m. Матрица, столбцы которой являются собственными векторами m, и будет матрицей S."
      ]
    },
    {
      "cell_type": "code",
      "metadata": {
        "id": "R313iKcPZgG5"
      },
      "source": [
        "eigvals, eigvectors = np.linalg.eig(m)"
      ],
      "execution_count": 18,
      "outputs": []
    },
    {
      "cell_type": "code",
      "metadata": {
        "colab": {
          "base_uri": "https://localhost:8080/"
        },
        "id": "RhzxNOhzZvQY",
        "outputId": "9b966495-636c-4ccd-e8f9-5e06ccd09be9"
      },
      "source": [
        "eigvals"
      ],
      "execution_count": 19,
      "outputs": [
        {
          "output_type": "execute_result",
          "data": {
            "text/plain": [
              "array([-0.23606798,  4.23606798])"
            ]
          },
          "metadata": {
            "tags": []
          },
          "execution_count": 19
        }
      ]
    },
    {
      "cell_type": "code",
      "metadata": {
        "colab": {
          "base_uri": "https://localhost:8080/"
        },
        "id": "tHcqUEUlaOet",
        "outputId": "94c3eb84-684e-4c45-ea81-0e1cba2c64d3"
      },
      "source": [
        "eigvectors"
      ],
      "execution_count": 20,
      "outputs": [
        {
          "output_type": "execute_result",
          "data": {
            "text/plain": [
              "array([[-0.85065081, -0.52573111],\n",
              "       [ 0.52573111, -0.85065081]])"
            ]
          },
          "metadata": {
            "tags": []
          },
          "execution_count": 20
        }
      ]
    },
    {
      "cell_type": "code",
      "metadata": {
        "id": "KupnjvQUc1Yi"
      },
      "source": [
        "S = eigvectors.transpose()"
      ],
      "execution_count": 21,
      "outputs": []
    },
    {
      "cell_type": "code",
      "metadata": {
        "colab": {
          "base_uri": "https://localhost:8080/"
        },
        "id": "cyEWHs_wdpVh",
        "outputId": "3ddf96e0-1402-4d19-dc2b-d4073c97d5f6"
      },
      "source": [
        "S"
      ],
      "execution_count": 22,
      "outputs": [
        {
          "output_type": "execute_result",
          "data": {
            "text/plain": [
              "array([[-0.85065081,  0.52573111],\n",
              "       [-0.52573111, -0.85065081]])"
            ]
          },
          "metadata": {
            "tags": []
          },
          "execution_count": 22
        }
      ]
    },
    {
      "cell_type": "code",
      "metadata": {
        "id": "_gKN4VC0b275"
      },
      "source": [
        "D = np.diagflat(eigvals)"
      ],
      "execution_count": 23,
      "outputs": []
    },
    {
      "cell_type": "code",
      "metadata": {
        "colab": {
          "base_uri": "https://localhost:8080/"
        },
        "id": "s13LojPdcTBD",
        "outputId": "2f56feec-a41f-4679-ef01-ef72c3a98234"
      },
      "source": [
        "D"
      ],
      "execution_count": 24,
      "outputs": [
        {
          "output_type": "execute_result",
          "data": {
            "text/plain": [
              "array([[-0.23606798,  0.        ],\n",
              "       [ 0.        ,  4.23606798]])"
            ]
          },
          "metadata": {
            "tags": []
          },
          "execution_count": 24
        }
      ]
    },
    {
      "cell_type": "markdown",
      "metadata": {
        "id": "4K_trcZtdAyA"
      },
      "source": [
        "Проверим, что произведение матриц S.transpose(), D и S действительно представляет собой матрицу m."
      ]
    },
    {
      "cell_type": "code",
      "metadata": {
        "colab": {
          "base_uri": "https://localhost:8080/"
        },
        "id": "w6YlbqG7cTqg",
        "outputId": "0af34625-41cc-41bd-888a-19514e436805"
      },
      "source": [
        "S.transpose().dot(D).dot(S)"
      ],
      "execution_count": 25,
      "outputs": [
        {
          "output_type": "execute_result",
          "data": {
            "text/plain": [
              "array([[1., 2.],\n",
              "       [2., 3.]])"
            ]
          },
          "metadata": {
            "tags": []
          },
          "execution_count": 25
        }
      ]
    },
    {
      "cell_type": "code",
      "metadata": {
        "colab": {
          "base_uri": "https://localhost:8080/"
        },
        "id": "TDo541nLcfb2",
        "outputId": "8a67a6c6-d8d6-47b5-d12f-79d5299572ec"
      },
      "source": [
        "m"
      ],
      "execution_count": 26,
      "outputs": [
        {
          "output_type": "execute_result",
          "data": {
            "text/plain": [
              "array([[1., 2.],\n",
              "       [2., 3.]])"
            ]
          },
          "metadata": {
            "tags": []
          },
          "execution_count": 26
        }
      ]
    },
    {
      "cell_type": "markdown",
      "metadata": {
        "id": "r8Z0mCQgeic_"
      },
      "source": [
        "Зависимость MSE на датасете MNIST (качества восстановления рукописных цифр после PCA) от n_components."
      ]
    },
    {
      "cell_type": "code",
      "metadata": {
        "id": "WtcqrANcdwdn"
      },
      "source": [
        "# загружаем данные\n",
        "data, target = load_digits(return_X_y=True)"
      ],
      "execution_count": 27,
      "outputs": []
    },
    {
      "cell_type": "code",
      "metadata": {
        "colab": {
          "base_uri": "https://localhost:8080/",
          "height": 663
        },
        "id": "IzoCtgUAf3ck",
        "outputId": "a30da7e6-6136-47f7-e526-5f3a7a8a8d6b"
      },
      "source": [
        "# визуализируем данные\n",
        "digits_idx = np.random.randint(1797, size=100)\n",
        "fig, axs = plt.subplots(10, 10, figsize=(10, 10))\n",
        "for i, ax in zip(digits_idx, axs.flat):\n",
        "    ax.imshow(data[i].reshape(8, 8), cmap='Greys')\n",
        "fig.suptitle('Sample from the 64-dim digits dataset', fontsize='xx-large')\n",
        "plt.show()"
      ],
      "execution_count": 28,
      "outputs": [
        {
          "output_type": "display_data",
          "data": {
            "image/png": "[encoded data removed]",
            "text/plain": [
              "<Figure size 720x720 with 100 Axes>"
            ]
          },
          "metadata": {
            "tags": [],
            "needs_background": "light"
          }
        }
      ]
    },
    {
      "cell_type": "code",
      "metadata": {
        "id": "VIt0nf7EmAgW",
        "colab": {
          "base_uri": "https://localhost:8080/",
          "height": 1000,
          "referenced_widgets": [
            "02ff17c8848b4a6696a7d2448c921cbe",
            "a06acb02790e4af3bbd176af039866d0",
            "e7806c6781ce45d1bba5133b2b81106c",
            "bbccbbfc376d45eb8c563dac0ab99337",
            "3f7a6497311346cc92d16f92f0720b9e",
            "b2b5d8d010b144b69a9e6fb181951db4",
            "d8f53ac9efa54752baddbf5d33fbbb57",
            "08d759c0340344b8bdd1ea801dd763ba"
          ]
        },
        "outputId": "e2acfb10-f70f-4ad1-8b04-be554fca54b6"
      },
      "source": [
        "# подсчитываем mse для всех возможных значений n_components\n",
        "scores = []\n",
        "for n_components in tqdm(np.arange(1, 64 + 1)):\n",
        "    pca = PCA(n_components=n_components, random_state=42)\n",
        "    pca.fit(data)\n",
        "    pred = pca.inverse_transform(pca.transform(data))\n",
        "    mse = mean_squared_error(data, pred)\n",
        "    scores.append(mse)\n",
        "    print(f'n_components: {n_components}, mse: {mse:.3f}')"
      ],
      "execution_count": 32,
      "outputs": [
        {
          "output_type": "display_data",
          "data": {
            "application/vnd.jupyter.widget-view+json": {
              "model_id": "02ff17c8848b4a6696a7d2448c921cbe",
              "version_minor": 0,
              "version_major": 2
            },
            "text/plain": [
              "HBox(children=(FloatProgress(value=0.0, max=64.0), HTML(value='')))"
            ]
          },
          "metadata": {
            "tags": []
          }
        },
        {
          "output_type": "stream",
          "text": [
            "n_components: 1, mse: 15.978\n",
            "n_components: 2, mse: 13.421\n",
            "n_components: 3, mse: 11.207\n",
            "n_components: 4, mse: 9.628\n",
            "n_components: 5, mse: 8.542\n",
            "n_components: 6, mse: 7.619\n",
            "n_components: 7, mse: 6.809\n",
            "n_components: 8, mse: 6.122\n",
            "n_components: 9, mse: 5.492\n",
            "n_components: 10, mse: 4.914\n",
            "n_components: 11, mse: 4.469\n",
            "n_components: 12, mse: 4.042\n",
            "n_components: 13, mse: 3.700\n",
            "n_components: 14, mse: 3.367\n",
            "n_components: 15, mse: 3.092\n",
            "n_components: 16, mse: 2.827\n",
            "n_components: 17, mse: 2.580\n",
            "n_components: 18, mse: 2.345\n",
            "n_components: 19, mse: 2.154\n",
            "n_components: 20, mse: 1.984\n",
            "n_components: 21, mse: 1.817\n",
            "n_components: 22, mse: 1.668\n",
            "n_components: 23, mse: 1.524\n",
            "n_components: 24, mse: 1.388\n",
            "n_components: 25, mse: 1.257\n",
            "n_components: 26, mse: 1.145\n",
            "n_components: 27, mse: 1.037\n",
            "n_components: 28, mse: 0.941\n",
            "n_components: 29, mse: 0.849\n",
            "n_components: 30, mse: 0.768\n",
            "n_components: 31, mse: 0.698\n",
            "n_components: 32, mse: 0.632\n",
            "n_components: 33, mse: 0.568\n",
            "n_components: 34, mse: 0.507\n",
            "n_components: 35, mse: 0.449\n",
            "n_components: 36, mse: 0.394\n",
            "n_components: 37, mse: 0.346\n",
            "n_components: 38, mse: 0.303\n",
            "n_components: 39, mse: 0.261\n",
            "n_components: 40, mse: 0.221\n",
            "n_components: 41, mse: 0.186\n",
            "n_components: 42, mse: 0.156\n",
            "n_components: 43, mse: 0.128\n",
            "n_components: 44, mse: 0.101\n",
            "n_components: 45, mse: 0.079\n",
            "n_components: 46, mse: 0.059\n",
            "n_components: 47, mse: 0.041\n",
            "n_components: 48, mse: 0.027\n",
            "n_components: 49, mse: 0.016\n",
            "n_components: 50, mse: 0.009\n",
            "n_components: 51, mse: 0.005\n",
            "n_components: 52, mse: 0.003\n",
            "n_components: 53, mse: 0.002\n",
            "n_components: 54, mse: 0.001\n",
            "n_components: 55, mse: 0.000\n",
            "n_components: 56, mse: 0.000\n",
            "n_components: 57, mse: 0.000\n",
            "n_components: 58, mse: 0.000\n",
            "n_components: 59, mse: 0.000\n",
            "n_components: 60, mse: 0.000\n",
            "n_components: 61, mse: 0.000\n",
            "n_components: 62, mse: 0.000\n",
            "n_components: 63, mse: 0.000\n",
            "n_components: 64, mse: 0.000\n",
            "\n"
          ],
          "name": "stdout"
        }
      ]
    },
    {
      "cell_type": "code",
      "metadata": {
        "id": "xJES73s-vpxj",
        "colab": {
          "base_uri": "https://localhost:8080/",
          "height": 722
        },
        "outputId": "afec01ff-ef62-4738-a35f-c63af9ca4a09"
      },
      "source": [
        "# строим график\n",
        "plt.figure(figsize=(14, 12))\n",
        "plt.plot(np.arange(1, 64 + 1), scores)\n",
        "plt.grid()\n",
        "plt.xlabel('n_components', fontsize='xx-large')\n",
        "plt.ylabel('MSE', fontsize='xx-large')\n",
        "plt.show()"
      ],
      "execution_count": 33,
      "outputs": [
        {
          "output_type": "display_data",
          "data": {
            "image/png": "[encoded data removed]",
            "text/plain": [
              "<Figure size 1008x864 with 1 Axes>"
            ]
          },
          "metadata": {
            "tags": [],
            "needs_background": "light"
          }
        }
      ]
    },
    {
      "cell_type": "markdown",
      "metadata": {
        "id": "gbDWh-SYqJFv"
      },
      "source": [
        "Вывод: MSE пропорциональна 1 / n_components^2"
      ]
    }
  ]
}
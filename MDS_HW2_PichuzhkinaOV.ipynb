{
  "nbformat": 4,
  "nbformat_minor": 0,
  "metadata": {
    "colab": {
      "name": "MDS_HW2_PichuzhkinaOV.ipynb",
      "provenance": [],
      "collapsed_sections": []
    },
    "kernelspec": {
      "name": "python3",
      "display_name": "Python 3"
    },
    "accelerator": "GPU"
  },
  "cells": [
    {
      "cell_type": "code",
      "metadata": {
        "id": "d6-D7ehYlBY8"
      },
      "source": [
        "import numpy as np\n",
        "import matplotlib.pyplot as plt"
      ],
      "execution_count": 1,
      "outputs": []
    },
    {
      "cell_type": "markdown",
      "metadata": {
        "id": "vAS0vTvqlW0M"
      },
      "source": [
        "# Уровень 0"
      ]
    },
    {
      "cell_type": "code",
      "metadata": {
        "id": "TMomkKh7lWDm"
      },
      "source": [
        "A = np.array([[1., 2., 3.],\n",
        "              [4., 5., 6.],\n",
        "              [7., 8., 9.]])"
      ],
      "execution_count": 2,
      "outputs": []
    },
    {
      "cell_type": "code",
      "metadata": {
        "colab": {
          "base_uri": "https://localhost:8080/"
        },
        "id": "FLt7KsOylvI6",
        "outputId": "bc42cbb3-b04b-42e7-f570-b480b837c339"
      },
      "source": [
        "A"
      ],
      "execution_count": 3,
      "outputs": [
        {
          "output_type": "execute_result",
          "data": {
            "text/plain": [
              "array([[1., 2., 3.],\n",
              "       [4., 5., 6.],\n",
              "       [7., 8., 9.]])"
            ]
          },
          "metadata": {
            "tags": []
          },
          "execution_count": 3
        }
      ]
    },
    {
      "cell_type": "code",
      "metadata": {
        "id": "lYNeuPcnlvnn"
      },
      "source": [
        "A += np.eye(3)"
      ],
      "execution_count": 4,
      "outputs": []
    },
    {
      "cell_type": "code",
      "metadata": {
        "id": "SaDbh1Z1l3cR",
        "colab": {
          "base_uri": "https://localhost:8080/"
        },
        "outputId": "6abd3fc8-f270-43e1-a139-5e9ada3eb71c"
      },
      "source": [
        "A"
      ],
      "execution_count": 5,
      "outputs": [
        {
          "output_type": "execute_result",
          "data": {
            "text/plain": [
              "array([[ 2.,  2.,  3.],\n",
              "       [ 4.,  6.,  6.],\n",
              "       [ 7.,  8., 10.]])"
            ]
          },
          "metadata": {
            "tags": []
          },
          "execution_count": 5
        }
      ]
    },
    {
      "cell_type": "code",
      "metadata": {
        "id": "As7C6OUOmRl3"
      },
      "source": [
        "A = np.multiply(A, np.arange(1.0, 4.0))"
      ],
      "execution_count": 6,
      "outputs": []
    },
    {
      "cell_type": "code",
      "metadata": {
        "colab": {
          "base_uri": "https://localhost:8080/"
        },
        "id": "mw6Wkdlgmp4O",
        "outputId": "b6acea4c-4c2d-47bb-d10f-9f954afd811e"
      },
      "source": [
        "A"
      ],
      "execution_count": 7,
      "outputs": [
        {
          "output_type": "execute_result",
          "data": {
            "text/plain": [
              "array([[ 2.,  4.,  9.],\n",
              "       [ 4., 12., 18.],\n",
              "       [ 7., 16., 30.]])"
            ]
          },
          "metadata": {
            "tags": []
          },
          "execution_count": 7
        }
      ]
    },
    {
      "cell_type": "code",
      "metadata": {
        "id": "3tG3r8i2mqs0"
      },
      "source": [
        "B = np.linalg.inv(A)"
      ],
      "execution_count": 8,
      "outputs": []
    },
    {
      "cell_type": "code",
      "metadata": {
        "colab": {
          "base_uri": "https://localhost:8080/"
        },
        "id": "PcmzUR0_m8db",
        "outputId": "af316f32-a0ac-40e5-c1dd-973f502ebc38"
      },
      "source": [
        "B"
      ],
      "execution_count": 9,
      "outputs": [
        {
          "output_type": "execute_result",
          "data": {
            "text/plain": [
              "array([[-6.00000000e+00, -2.00000000e+00,  3.00000000e+00],\n",
              "       [-5.00000000e-01,  2.50000000e-01,  1.94289029e-16],\n",
              "       [ 1.66666667e+00,  3.33333333e-01, -6.66666667e-01]])"
            ]
          },
          "metadata": {
            "tags": []
          },
          "execution_count": 9
        }
      ]
    },
    {
      "cell_type": "markdown",
      "metadata": {
        "id": "uS4bYwrToQeB"
      },
      "source": [
        "# Уровень 1"
      ]
    },
    {
      "cell_type": "code",
      "metadata": {
        "id": "4jsrVLWWoL_c"
      },
      "source": [
        "A = np.array([[-100, -100, 1],\n",
        "              [-100, 100, 1],\n",
        "              [100, 100, 1],\n",
        "              [0, 0, 1],\n",
        "              [100, -100, 1],\n",
        "              [-100, -100, 1]])"
      ],
      "execution_count": 10,
      "outputs": []
    },
    {
      "cell_type": "code",
      "metadata": {
        "id": "E5VT0UkkoheM"
      },
      "source": [
        "x = A[:, 0]\n",
        "y = A[:, 1]"
      ],
      "execution_count": 11,
      "outputs": []
    },
    {
      "cell_type": "code",
      "metadata": {
        "colab": {
          "base_uri": "https://localhost:8080/",
          "height": 487
        },
        "id": "Yk4UzPmBojE5",
        "outputId": "3ae6bfe3-4d61-4f2f-cb84-7470debfbfbe"
      },
      "source": [
        "plt.figure(figsize=(10, 8))\n",
        "plt.plot(x, y)\n",
        "plt.ylim([-200, 200])\n",
        "plt.xlim([-200, 200])\n",
        "plt.show()"
      ],
      "execution_count": 12,
      "outputs": [
        {
          "output_type": "display_data",
          "data": {
            "image/png": "[encoded data removed]",
            "text/plain": [
              "<Figure size 720x576 with 1 Axes>"
            ]
          },
          "metadata": {
            "tags": [],
            "needs_background": "light"
          }
        }
      ]
    },
    {
      "cell_type": "markdown",
      "metadata": {
        "id": "C1lxMgiTse-r"
      },
      "source": [
        "*   Уменьшить объект в 2 раза"
      ]
    },
    {
      "cell_type": "code",
      "metadata": {
        "id": "FNMnNS0Koz8y"
      },
      "source": [
        "A = A.dot(np.array([[0.5, 0, 0],\n",
        "                    [0, 0.5, 0],\n",
        "                    [0, 0, 1]]))"
      ],
      "execution_count": 13,
      "outputs": []
    },
    {
      "cell_type": "code",
      "metadata": {
        "colab": {
          "base_uri": "https://localhost:8080/"
        },
        "id": "ppnmFsIUs51y",
        "outputId": "6082c743-8d14-488b-eadf-83a1e7948e51"
      },
      "source": [
        "A"
      ],
      "execution_count": 14,
      "outputs": [
        {
          "output_type": "execute_result",
          "data": {
            "text/plain": [
              "array([[-50., -50.,   1.],\n",
              "       [-50.,  50.,   1.],\n",
              "       [ 50.,  50.,   1.],\n",
              "       [  0.,   0.,   1.],\n",
              "       [ 50., -50.,   1.],\n",
              "       [-50., -50.,   1.]])"
            ]
          },
          "metadata": {
            "tags": []
          },
          "execution_count": 14
        }
      ]
    },
    {
      "cell_type": "code",
      "metadata": {
        "id": "3f46FH7is6rb"
      },
      "source": [
        "x = A[:, 0]\n",
        "y = A[:, 1]"
      ],
      "execution_count": 15,
      "outputs": []
    },
    {
      "cell_type": "code",
      "metadata": {
        "colab": {
          "base_uri": "https://localhost:8080/",
          "height": 487
        },
        "id": "8fEOsKSWs-dz",
        "outputId": "2828b765-6328-4129-aedc-b946e5a020be"
      },
      "source": [
        "plt.figure(figsize=(10, 8))\n",
        "plt.plot(x, y)\n",
        "plt.ylim([-200, 200])\n",
        "plt.xlim([-200, 200])\n",
        "plt.show()"
      ],
      "execution_count": 16,
      "outputs": [
        {
          "output_type": "display_data",
          "data": {
            "image/png": "[encoded data removed]",
            "text/plain": [
              "<Figure size 720x576 with 1 Axes>"
            ]
          },
          "metadata": {
            "tags": [],
            "needs_background": "light"
          }
        }
      ]
    },
    {
      "cell_type": "markdown",
      "metadata": {
        "id": "1Y47QbpvtEt0"
      },
      "source": [
        "*   Повернуть на 130 градусов"
      ]
    },
    {
      "cell_type": "code",
      "metadata": {
        "id": "KqKDlkuvtAlR"
      },
      "source": [
        "A = A.dot(np.array([[np.cos(np.pi * 13 / 18), -np.sin(np.pi * 13 / 18), 0],\n",
        "                    [np.sin(np.pi * 13 / 18), np.cos(np.pi * 13 / 18), 0],\n",
        "                    [0, 0, 1]]))"
      ],
      "execution_count": 17,
      "outputs": []
    },
    {
      "cell_type": "code",
      "metadata": {
        "colab": {
          "base_uri": "https://localhost:8080/"
        },
        "id": "n_NGYoeduzXH",
        "outputId": "a9bbe190-cb1c-4756-decc-2c71fc2bb4b6"
      },
      "source": [
        "A"
      ],
      "execution_count": 18,
      "outputs": [
        {
          "output_type": "execute_result",
          "data": {
            "text/plain": [
              "array([[ -6.16284167,  70.44160264,   1.        ],\n",
              "       [ 70.44160264,   6.16284167,   1.        ],\n",
              "       [  6.16284167, -70.44160264,   1.        ],\n",
              "       [  0.        ,   0.        ,   1.        ],\n",
              "       [-70.44160264,  -6.16284167,   1.        ],\n",
              "       [ -6.16284167,  70.44160264,   1.        ]])"
            ]
          },
          "metadata": {
            "tags": []
          },
          "execution_count": 18
        }
      ]
    },
    {
      "cell_type": "code",
      "metadata": {
        "id": "ZpgqQ9cau0Fo"
      },
      "source": [
        "x = A[:, 0]\n",
        "y = A[:, 1]"
      ],
      "execution_count": 19,
      "outputs": []
    },
    {
      "cell_type": "code",
      "metadata": {
        "colab": {
          "base_uri": "https://localhost:8080/",
          "height": 487
        },
        "id": "PtlrfWTiu1oX",
        "outputId": "7e97377e-2ca4-4e6a-bae1-bf2893d55bbb"
      },
      "source": [
        "plt.figure(figsize=(10, 8))\n",
        "plt.plot(x, y)\n",
        "plt.ylim([-200, 200])\n",
        "plt.xlim([-200, 200])\n",
        "plt.show()"
      ],
      "execution_count": 20,
      "outputs": [
        {
          "output_type": "display_data",
          "data": {
            "image/png": "[encoded data removed]",
            "text/plain": [
              "<Figure size 720x576 with 1 Axes>"
            ]
          },
          "metadata": {
            "tags": [],
            "needs_background": "light"
          }
        }
      ]
    },
    {
      "cell_type": "markdown",
      "metadata": {
        "id": "MFLDYp_NvaN9"
      },
      "source": [
        "*   Отразить объект относительно прямой y=x"
      ]
    },
    {
      "cell_type": "code",
      "metadata": {
        "id": "b9BjNnavu3a1"
      },
      "source": [
        "A = A.dot(np.array([[-1, 0, 0],\n",
        "                    [0, -1, 0],\n",
        "                    [0, 0, 1]]))"
      ],
      "execution_count": 21,
      "outputs": []
    },
    {
      "cell_type": "code",
      "metadata": {
        "colab": {
          "base_uri": "https://localhost:8080/"
        },
        "id": "AtUZzUuwv4ne",
        "outputId": "2fa8fe09-bed0-4e54-f1d6-7e022c485385"
      },
      "source": [
        "A"
      ],
      "execution_count": 22,
      "outputs": [
        {
          "output_type": "execute_result",
          "data": {
            "text/plain": [
              "array([[  6.16284167, -70.44160264,   1.        ],\n",
              "       [-70.44160264,  -6.16284167,   1.        ],\n",
              "       [ -6.16284167,  70.44160264,   1.        ],\n",
              "       [  0.        ,   0.        ,   1.        ],\n",
              "       [ 70.44160264,   6.16284167,   1.        ],\n",
              "       [  6.16284167, -70.44160264,   1.        ]])"
            ]
          },
          "metadata": {
            "tags": []
          },
          "execution_count": 22
        }
      ]
    },
    {
      "cell_type": "code",
      "metadata": {
        "id": "MIjekSJ2v5ox"
      },
      "source": [
        "x = A[:, 0]\n",
        "y = A[:, 1]"
      ],
      "execution_count": 23,
      "outputs": []
    },
    {
      "cell_type": "code",
      "metadata": {
        "colab": {
          "base_uri": "https://localhost:8080/",
          "height": 487
        },
        "id": "5Z9GUT0Jv9ym",
        "outputId": "b7d8f1df-190e-48b7-9005-696bfcf08cfb"
      },
      "source": [
        "plt.figure(figsize=(10, 8))\n",
        "plt.plot(x, y)\n",
        "plt.ylim([-200, 200])\n",
        "plt.xlim([-200, 200])\n",
        "plt.show()"
      ],
      "execution_count": 24,
      "outputs": [
        {
          "output_type": "display_data",
          "data": {
            "image/png": "[encoded data removed]",
            "text/plain": [
              "<Figure size 720x576 with 1 Axes>"
            ]
          },
          "metadata": {
            "tags": [],
            "needs_background": "light"
          }
        }
      ]
    },
    {
      "cell_type": "markdown",
      "metadata": {
        "id": "gd3xFYcjwExa"
      },
      "source": [
        "*   Выполнить смещение объекта и масштабирование (применить 2 матрицы трансформаций). Смещение на (200, 300) и масштабирование на (0.5, 1.2)"
      ]
    },
    {
      "cell_type": "code",
      "metadata": {
        "id": "syjYShaxv_j_"
      },
      "source": [
        "A = A.dot(np.array([[1, 0, 200],\n",
        "                    [0, 1, 300],\n",
        "                    [0, 0, 1]]))"
      ],
      "execution_count": 25,
      "outputs": []
    },
    {
      "cell_type": "code",
      "metadata": {
        "colab": {
          "base_uri": "https://localhost:8080/"
        },
        "id": "0eJo522XwUHm",
        "outputId": "237d0294-45d9-4346-eb2a-58b8f2c6bbd0"
      },
      "source": [
        "A"
      ],
      "execution_count": 26,
      "outputs": [
        {
          "output_type": "execute_result",
          "data": {
            "text/plain": [
              "array([[ 6.16284167e+00, -7.04416026e+01, -1.98989125e+04],\n",
              "       [-7.04416026e+01, -6.16284167e+00, -1.59361730e+04],\n",
              "       [-6.16284167e+00,  7.04416026e+01,  1.99009125e+04],\n",
              "       [ 0.00000000e+00,  0.00000000e+00,  1.00000000e+00],\n",
              "       [ 7.04416026e+01,  6.16284167e+00,  1.59381730e+04],\n",
              "       [ 6.16284167e+00, -7.04416026e+01, -1.98989125e+04]])"
            ]
          },
          "metadata": {
            "tags": []
          },
          "execution_count": 26
        }
      ]
    },
    {
      "cell_type": "code",
      "metadata": {
        "id": "EXrxbEnAwU0c"
      },
      "source": [
        "A = A.dot(np.array([[0.5, 0, 0],\n",
        "                    [0, 1.2, 0],\n",
        "                    [0, 0, 1]]))"
      ],
      "execution_count": 27,
      "outputs": []
    },
    {
      "cell_type": "code",
      "metadata": {
        "colab": {
          "base_uri": "https://localhost:8080/"
        },
        "id": "XIR8o5qXwaDy",
        "outputId": "884f7e63-567c-4c82-a7c6-1f61b90ee525"
      },
      "source": [
        "A"
      ],
      "execution_count": 28,
      "outputs": [
        {
          "output_type": "execute_result",
          "data": {
            "text/plain": [
              "array([[ 3.08142084e+00, -8.45299232e+01, -1.98989125e+04],\n",
              "       [-3.52208013e+01, -7.39541001e+00, -1.59361730e+04],\n",
              "       [-3.08142084e+00,  8.45299232e+01,  1.99009125e+04],\n",
              "       [ 0.00000000e+00,  0.00000000e+00,  1.00000000e+00],\n",
              "       [ 3.52208013e+01,  7.39541001e+00,  1.59381730e+04],\n",
              "       [ 3.08142084e+00, -8.45299232e+01, -1.98989125e+04]])"
            ]
          },
          "metadata": {
            "tags": []
          },
          "execution_count": 28
        }
      ]
    },
    {
      "cell_type": "code",
      "metadata": {
        "id": "Haq2RnIEwal4"
      },
      "source": [
        "x = A[:, 0]\n",
        "y = A[:, 1]"
      ],
      "execution_count": 29,
      "outputs": []
    },
    {
      "cell_type": "code",
      "metadata": {
        "colab": {
          "base_uri": "https://localhost:8080/",
          "height": 487
        },
        "id": "4qOjC3oSwcbB",
        "outputId": "1e78372d-6167-4bb1-bee2-c7e5b736beb9"
      },
      "source": [
        "plt.figure(figsize=(10, 8))\n",
        "plt.plot(x, y)\n",
        "plt.ylim([-200, 200])\n",
        "plt.xlim([-200, 200])\n",
        "plt.show()"
      ],
      "execution_count": 30,
      "outputs": [
        {
          "output_type": "display_data",
          "data": {
            "image/png": "[encoded data removed]",
            "text/plain": [
              "<Figure size 720x576 with 1 Axes>"
            ]
          },
          "metadata": {
            "tags": [],
            "needs_background": "light"
          }
        }
      ]
    }
  ]
}
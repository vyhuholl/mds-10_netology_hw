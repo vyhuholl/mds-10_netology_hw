{
  "nbformat": 4,
  "nbformat_minor": 0,
  "metadata": {
    "colab": {
      "name": "MDS_HW6_PichuzhkinaOV.ipynb",
      "provenance": [],
      "collapsed_sections": []
    },
    "kernelspec": {
      "name": "python3",
      "display_name": "Python 3"
    },
    "accelerator": "GPU",
    "widgets": {
      "application/vnd.jupyter.widget-state+json": {
        "9c84d56179154250bc79cd147dd49c6d": {
          "model_module": "@jupyter-widgets/controls",
          "model_name": "HBoxModel",
          "state": {
            "_view_name": "HBoxView",
            "_dom_classes": [],
            "_model_name": "HBoxModel",
            "_view_module": "@jupyter-widgets/controls",
            "_model_module_version": "1.5.0",
            "_view_count": null,
            "_view_module_version": "1.5.0",
            "box_style": "",
            "layout": "IPY_MODEL_8577b243df38499abe12b8dcb4f91b0a",
            "_model_module": "@jupyter-widgets/controls",
            "children": [
              "IPY_MODEL_4cfbcf2a61b345abab1a5a9310b53fad",
              "IPY_MODEL_fe597293023e44848f5e7b09444a158c"
            ]
          }
        },
        "8577b243df38499abe12b8dcb4f91b0a": {
          "model_module": "@jupyter-widgets/base",
          "model_name": "LayoutModel",
          "state": {
            "_view_name": "LayoutView",
            "grid_template_rows": null,
            "right": null,
            "justify_content": null,
            "_view_module": "@jupyter-widgets/base",
            "overflow": null,
            "_model_module_version": "1.2.0",
            "_view_count": null,
            "flex_flow": null,
            "width": null,
            "min_width": null,
            "border": null,
            "align_items": null,
            "bottom": null,
            "_model_module": "@jupyter-widgets/base",
            "top": null,
            "grid_column": null,
            "overflow_y": null,
            "overflow_x": null,
            "grid_auto_flow": null,
            "grid_area": null,
            "grid_template_columns": null,
            "flex": null,
            "_model_name": "LayoutModel",
            "justify_items": null,
            "grid_row": null,
            "max_height": null,
            "align_content": null,
            "visibility": null,
            "align_self": null,
            "height": null,
            "min_height": null,
            "padding": null,
            "grid_auto_rows": null,
            "grid_gap": null,
            "max_width": null,
            "order": null,
            "_view_module_version": "1.2.0",
            "grid_template_areas": null,
            "object_position": null,
            "object_fit": null,
            "grid_auto_columns": null,
            "margin": null,
            "display": null,
            "left": null
          }
        },
        "4cfbcf2a61b345abab1a5a9310b53fad": {
          "model_module": "@jupyter-widgets/controls",
          "model_name": "FloatProgressModel",
          "state": {
            "_view_name": "ProgressView",
            "style": "IPY_MODEL_e9a0d5383ea84619b81bfdac794159c5",
            "_dom_classes": [],
            "description": "100%",
            "_model_name": "FloatProgressModel",
            "bar_style": "success",
            "max": 12,
            "_view_module": "@jupyter-widgets/controls",
            "_model_module_version": "1.5.0",
            "value": 12,
            "_view_count": null,
            "_view_module_version": "1.5.0",
            "orientation": "horizontal",
            "min": 0,
            "description_tooltip": null,
            "_model_module": "@jupyter-widgets/controls",
            "layout": "IPY_MODEL_6db8effad29848ea94e44cbae58374e5"
          }
        },
        "fe597293023e44848f5e7b09444a158c": {
          "model_module": "@jupyter-widgets/controls",
          "model_name": "HTMLModel",
          "state": {
            "_view_name": "HTMLView",
            "style": "IPY_MODEL_4b316eacc74d47e2b69c68d9c4f91321",
            "_dom_classes": [],
            "description": "",
            "_model_name": "HTMLModel",
            "placeholder": "​",
            "_view_module": "@jupyter-widgets/controls",
            "_model_module_version": "1.5.0",
            "value": " 12/12 [00:09&lt;00:00,  1.32it/s]",
            "_view_count": null,
            "_view_module_version": "1.5.0",
            "description_tooltip": null,
            "_model_module": "@jupyter-widgets/controls",
            "layout": "IPY_MODEL_2b630c2a0d9347e18c5c266b13a3909c"
          }
        },
        "e9a0d5383ea84619b81bfdac794159c5": {
          "model_module": "@jupyter-widgets/controls",
          "model_name": "ProgressStyleModel",
          "state": {
            "_view_name": "StyleView",
            "_model_name": "ProgressStyleModel",
            "description_width": "initial",
            "_view_module": "@jupyter-widgets/base",
            "_model_module_version": "1.5.0",
            "_view_count": null,
            "_view_module_version": "1.2.0",
            "bar_color": null,
            "_model_module": "@jupyter-widgets/controls"
          }
        },
        "6db8effad29848ea94e44cbae58374e5": {
          "model_module": "@jupyter-widgets/base",
          "model_name": "LayoutModel",
          "state": {
            "_view_name": "LayoutView",
            "grid_template_rows": null,
            "right": null,
            "justify_content": null,
            "_view_module": "@jupyter-widgets/base",
            "overflow": null,
            "_model_module_version": "1.2.0",
            "_view_count": null,
            "flex_flow": null,
            "width": null,
            "min_width": null,
            "border": null,
            "align_items": null,
            "bottom": null,
            "_model_module": "@jupyter-widgets/base",
            "top": null,
            "grid_column": null,
            "overflow_y": null,
            "overflow_x": null,
            "grid_auto_flow": null,
            "grid_area": null,
            "grid_template_columns": null,
            "flex": null,
            "_model_name": "LayoutModel",
            "justify_items": null,
            "grid_row": null,
            "max_height": null,
            "align_content": null,
            "visibility": null,
            "align_self": null,
            "height": null,
            "min_height": null,
            "padding": null,
            "grid_auto_rows": null,
            "grid_gap": null,
            "max_width": null,
            "order": null,
            "_view_module_version": "1.2.0",
            "grid_template_areas": null,
            "object_position": null,
            "object_fit": null,
            "grid_auto_columns": null,
            "margin": null,
            "display": null,
            "left": null
          }
        },
        "4b316eacc74d47e2b69c68d9c4f91321": {
          "model_module": "@jupyter-widgets/controls",
          "model_name": "DescriptionStyleModel",
          "state": {
            "_view_name": "StyleView",
            "_model_name": "DescriptionStyleModel",
            "description_width": "",
            "_view_module": "@jupyter-widgets/base",
            "_model_module_version": "1.5.0",
            "_view_count": null,
            "_view_module_version": "1.2.0",
            "_model_module": "@jupyter-widgets/controls"
          }
        },
        "2b630c2a0d9347e18c5c266b13a3909c": {
          "model_module": "@jupyter-widgets/base",
          "model_name": "LayoutModel",
          "state": {
            "_view_name": "LayoutView",
            "grid_template_rows": null,
            "right": null,
            "justify_content": null,
            "_view_module": "@jupyter-widgets/base",
            "overflow": null,
            "_model_module_version": "1.2.0",
            "_view_count": null,
            "flex_flow": null,
            "width": null,
            "min_width": null,
            "border": null,
            "align_items": null,
            "bottom": null,
            "_model_module": "@jupyter-widgets/base",
            "top": null,
            "grid_column": null,
            "overflow_y": null,
            "overflow_x": null,
            "grid_auto_flow": null,
            "grid_area": null,
            "grid_template_columns": null,
            "flex": null,
            "_model_name": "LayoutModel",
            "justify_items": null,
            "grid_row": null,
            "max_height": null,
            "align_content": null,
            "visibility": null,
            "align_self": null,
            "height": null,
            "min_height": null,
            "padding": null,
            "grid_auto_rows": null,
            "grid_gap": null,
            "max_width": null,
            "order": null,
            "_view_module_version": "1.2.0",
            "grid_template_areas": null,
            "object_position": null,
            "object_fit": null,
            "grid_auto_columns": null,
            "margin": null,
            "display": null,
            "left": null
          }
        },
        "7a6777500d564f1ebb46369a484a7bd6": {
          "model_module": "@jupyter-widgets/controls",
          "model_name": "HBoxModel",
          "state": {
            "_view_name": "HBoxView",
            "_dom_classes": [],
            "_model_name": "HBoxModel",
            "_view_module": "@jupyter-widgets/controls",
            "_model_module_version": "1.5.0",
            "_view_count": null,
            "_view_module_version": "1.5.0",
            "box_style": "",
            "layout": "IPY_MODEL_0f5cafb4e8cc4e0b8cb8ea64da38a58d",
            "_model_module": "@jupyter-widgets/controls",
            "children": [
              "IPY_MODEL_5291cab13f674e78bbbc3ae16d2daba9",
              "IPY_MODEL_78799614d0bb4fd1947db0bd577ae8af"
            ]
          }
        },
        "0f5cafb4e8cc4e0b8cb8ea64da38a58d": {
          "model_module": "@jupyter-widgets/base",
          "model_name": "LayoutModel",
          "state": {
            "_view_name": "LayoutView",
            "grid_template_rows": null,
            "right": null,
            "justify_content": null,
            "_view_module": "@jupyter-widgets/base",
            "overflow": null,
            "_model_module_version": "1.2.0",
            "_view_count": null,
            "flex_flow": null,
            "width": null,
            "min_width": null,
            "border": null,
            "align_items": null,
            "bottom": null,
            "_model_module": "@jupyter-widgets/base",
            "top": null,
            "grid_column": null,
            "overflow_y": null,
            "overflow_x": null,
            "grid_auto_flow": null,
            "grid_area": null,
            "grid_template_columns": null,
            "flex": null,
            "_model_name": "LayoutModel",
            "justify_items": null,
            "grid_row": null,
            "max_height": null,
            "align_content": null,
            "visibility": null,
            "align_self": null,
            "height": null,
            "min_height": null,
            "padding": null,
            "grid_auto_rows": null,
            "grid_gap": null,
            "max_width": null,
            "order": null,
            "_view_module_version": "1.2.0",
            "grid_template_areas": null,
            "object_position": null,
            "object_fit": null,
            "grid_auto_columns": null,
            "margin": null,
            "display": null,
            "left": null
          }
        },
        "5291cab13f674e78bbbc3ae16d2daba9": {
          "model_module": "@jupyter-widgets/controls",
          "model_name": "FloatProgressModel",
          "state": {
            "_view_name": "ProgressView",
            "style": "IPY_MODEL_c442af2750e4430482b5c251c95a77b5",
            "_dom_classes": [],
            "description": "100%",
            "_model_name": "FloatProgressModel",
            "bar_style": "success",
            "max": 30,
            "_view_module": "@jupyter-widgets/controls",
            "_model_module_version": "1.5.0",
            "value": 30,
            "_view_count": null,
            "_view_module_version": "1.5.0",
            "orientation": "horizontal",
            "min": 0,
            "description_tooltip": null,
            "_model_module": "@jupyter-widgets/controls",
            "layout": "IPY_MODEL_f1f4b3a90a1c4b1d87ba56dd04c85a77"
          }
        },
        "78799614d0bb4fd1947db0bd577ae8af": {
          "model_module": "@jupyter-widgets/controls",
          "model_name": "HTMLModel",
          "state": {
            "_view_name": "HTMLView",
            "style": "IPY_MODEL_358426ffbe774e5bb4545f226a68c10f",
            "_dom_classes": [],
            "description": "",
            "_model_name": "HTMLModel",
            "placeholder": "​",
            "_view_module": "@jupyter-widgets/controls",
            "_model_module_version": "1.5.0",
            "value": " 30/30 [00:06&lt;00:00,  4.79it/s]",
            "_view_count": null,
            "_view_module_version": "1.5.0",
            "description_tooltip": null,
            "_model_module": "@jupyter-widgets/controls",
            "layout": "IPY_MODEL_af57b90d42064d7493dca5bae27a241e"
          }
        },
        "c442af2750e4430482b5c251c95a77b5": {
          "model_module": "@jupyter-widgets/controls",
          "model_name": "ProgressStyleModel",
          "state": {
            "_view_name": "StyleView",
            "_model_name": "ProgressStyleModel",
            "description_width": "initial",
            "_view_module": "@jupyter-widgets/base",
            "_model_module_version": "1.5.0",
            "_view_count": null,
            "_view_module_version": "1.2.0",
            "bar_color": null,
            "_model_module": "@jupyter-widgets/controls"
          }
        },
        "f1f4b3a90a1c4b1d87ba56dd04c85a77": {
          "model_module": "@jupyter-widgets/base",
          "model_name": "LayoutModel",
          "state": {
            "_view_name": "LayoutView",
            "grid_template_rows": null,
            "right": null,
            "justify_content": null,
            "_view_module": "@jupyter-widgets/base",
            "overflow": null,
            "_model_module_version": "1.2.0",
            "_view_count": null,
            "flex_flow": null,
            "width": null,
            "min_width": null,
            "border": null,
            "align_items": null,
            "bottom": null,
            "_model_module": "@jupyter-widgets/base",
            "top": null,
            "grid_column": null,
            "overflow_y": null,
            "overflow_x": null,
            "grid_auto_flow": null,
            "grid_area": null,
            "grid_template_columns": null,
            "flex": null,
            "_model_name": "LayoutModel",
            "justify_items": null,
            "grid_row": null,
            "max_height": null,
            "align_content": null,
            "visibility": null,
            "align_self": null,
            "height": null,
            "min_height": null,
            "padding": null,
            "grid_auto_rows": null,
            "grid_gap": null,
            "max_width": null,
            "order": null,
            "_view_module_version": "1.2.0",
            "grid_template_areas": null,
            "object_position": null,
            "object_fit": null,
            "grid_auto_columns": null,
            "margin": null,
            "display": null,
            "left": null
          }
        },
        "358426ffbe774e5bb4545f226a68c10f": {
          "model_module": "@jupyter-widgets/controls",
          "model_name": "DescriptionStyleModel",
          "state": {
            "_view_name": "StyleView",
            "_model_name": "DescriptionStyleModel",
            "description_width": "",
            "_view_module": "@jupyter-widgets/base",
            "_model_module_version": "1.5.0",
            "_view_count": null,
            "_view_module_version": "1.2.0",
            "_model_module": "@jupyter-widgets/controls"
          }
        },
        "af57b90d42064d7493dca5bae27a241e": {
          "model_module": "@jupyter-widgets/base",
          "model_name": "LayoutModel",
          "state": {
            "_view_name": "LayoutView",
            "grid_template_rows": null,
            "right": null,
            "justify_content": null,
            "_view_module": "@jupyter-widgets/base",
            "overflow": null,
            "_model_module_version": "1.2.0",
            "_view_count": null,
            "flex_flow": null,
            "width": null,
            "min_width": null,
            "border": null,
            "align_items": null,
            "bottom": null,
            "_model_module": "@jupyter-widgets/base",
            "top": null,
            "grid_column": null,
            "overflow_y": null,
            "overflow_x": null,
            "grid_auto_flow": null,
            "grid_area": null,
            "grid_template_columns": null,
            "flex": null,
            "_model_name": "LayoutModel",
            "justify_items": null,
            "grid_row": null,
            "max_height": null,
            "align_content": null,
            "visibility": null,
            "align_self": null,
            "height": null,
            "min_height": null,
            "padding": null,
            "grid_auto_rows": null,
            "grid_gap": null,
            "max_width": null,
            "order": null,
            "_view_module_version": "1.2.0",
            "grid_template_areas": null,
            "object_position": null,
            "object_fit": null,
            "grid_auto_columns": null,
            "margin": null,
            "display": null,
            "left": null
          }
        },
        "2fc87e9150604df5873bfcb536f3971e": {
          "model_module": "@jupyter-widgets/controls",
          "model_name": "HBoxModel",
          "state": {
            "_view_name": "HBoxView",
            "_dom_classes": [],
            "_model_name": "HBoxModel",
            "_view_module": "@jupyter-widgets/controls",
            "_model_module_version": "1.5.0",
            "_view_count": null,
            "_view_module_version": "1.5.0",
            "box_style": "",
            "layout": "IPY_MODEL_3c46bd28b9ba486bad51f07df55062bb",
            "_model_module": "@jupyter-widgets/controls",
            "children": [
              "IPY_MODEL_9f81ee9e32a94e07bf0098ea6253af74",
              "IPY_MODEL_9373c9d5ce8a4bae8e6b3d765193204d"
            ]
          }
        },
        "3c46bd28b9ba486bad51f07df55062bb": {
          "model_module": "@jupyter-widgets/base",
          "model_name": "LayoutModel",
          "state": {
            "_view_name": "LayoutView",
            "grid_template_rows": null,
            "right": null,
            "justify_content": null,
            "_view_module": "@jupyter-widgets/base",
            "overflow": null,
            "_model_module_version": "1.2.0",
            "_view_count": null,
            "flex_flow": null,
            "width": null,
            "min_width": null,
            "border": null,
            "align_items": null,
            "bottom": null,
            "_model_module": "@jupyter-widgets/base",
            "top": null,
            "grid_column": null,
            "overflow_y": null,
            "overflow_x": null,
            "grid_auto_flow": null,
            "grid_area": null,
            "grid_template_columns": null,
            "flex": null,
            "_model_name": "LayoutModel",
            "justify_items": null,
            "grid_row": null,
            "max_height": null,
            "align_content": null,
            "visibility": null,
            "align_self": null,
            "height": null,
            "min_height": null,
            "padding": null,
            "grid_auto_rows": null,
            "grid_gap": null,
            "max_width": null,
            "order": null,
            "_view_module_version": "1.2.0",
            "grid_template_areas": null,
            "object_position": null,
            "object_fit": null,
            "grid_auto_columns": null,
            "margin": null,
            "display": null,
            "left": null
          }
        },
        "9f81ee9e32a94e07bf0098ea6253af74": {
          "model_module": "@jupyter-widgets/controls",
          "model_name": "FloatProgressModel",
          "state": {
            "_view_name": "ProgressView",
            "style": "IPY_MODEL_30a03c98ff184285a4f6a9a399fd5b5b",
            "_dom_classes": [],
            "description": "100%",
            "_model_name": "FloatProgressModel",
            "bar_style": "success",
            "max": 4,
            "_view_module": "@jupyter-widgets/controls",
            "_model_module_version": "1.5.0",
            "value": 4,
            "_view_count": null,
            "_view_module_version": "1.5.0",
            "orientation": "horizontal",
            "min": 0,
            "description_tooltip": null,
            "_model_module": "@jupyter-widgets/controls",
            "layout": "IPY_MODEL_530480f4e6f04e60b5cf369633ffb51d"
          }
        },
        "9373c9d5ce8a4bae8e6b3d765193204d": {
          "model_module": "@jupyter-widgets/controls",
          "model_name": "HTMLModel",
          "state": {
            "_view_name": "HTMLView",
            "style": "IPY_MODEL_5032a4b6f8d74727adbb7b55ae0e4acf",
            "_dom_classes": [],
            "description": "",
            "_model_name": "HTMLModel",
            "placeholder": "​",
            "_view_module": "@jupyter-widgets/controls",
            "_model_module_version": "1.5.0",
            "value": " 4/4 [00:00&lt;00:00,  5.56it/s]",
            "_view_count": null,
            "_view_module_version": "1.5.0",
            "description_tooltip": null,
            "_model_module": "@jupyter-widgets/controls",
            "layout": "IPY_MODEL_429a49b103ec4ea3bf5d34b7bec6643a"
          }
        },
        "30a03c98ff184285a4f6a9a399fd5b5b": {
          "model_module": "@jupyter-widgets/controls",
          "model_name": "ProgressStyleModel",
          "state": {
            "_view_name": "StyleView",
            "_model_name": "ProgressStyleModel",
            "description_width": "initial",
            "_view_module": "@jupyter-widgets/base",
            "_model_module_version": "1.5.0",
            "_view_count": null,
            "_view_module_version": "1.2.0",
            "bar_color": null,
            "_model_module": "@jupyter-widgets/controls"
          }
        },
        "530480f4e6f04e60b5cf369633ffb51d": {
          "model_module": "@jupyter-widgets/base",
          "model_name": "LayoutModel",
          "state": {
            "_view_name": "LayoutView",
            "grid_template_rows": null,
            "right": null,
            "justify_content": null,
            "_view_module": "@jupyter-widgets/base",
            "overflow": null,
            "_model_module_version": "1.2.0",
            "_view_count": null,
            "flex_flow": null,
            "width": null,
            "min_width": null,
            "border": null,
            "align_items": null,
            "bottom": null,
            "_model_module": "@jupyter-widgets/base",
            "top": null,
            "grid_column": null,
            "overflow_y": null,
            "overflow_x": null,
            "grid_auto_flow": null,
            "grid_area": null,
            "grid_template_columns": null,
            "flex": null,
            "_model_name": "LayoutModel",
            "justify_items": null,
            "grid_row": null,
            "max_height": null,
            "align_content": null,
            "visibility": null,
            "align_self": null,
            "height": null,
            "min_height": null,
            "padding": null,
            "grid_auto_rows": null,
            "grid_gap": null,
            "max_width": null,
            "order": null,
            "_view_module_version": "1.2.0",
            "grid_template_areas": null,
            "object_position": null,
            "object_fit": null,
            "grid_auto_columns": null,
            "margin": null,
            "display": null,
            "left": null
          }
        },
        "5032a4b6f8d74727adbb7b55ae0e4acf": {
          "model_module": "@jupyter-widgets/controls",
          "model_name": "DescriptionStyleModel",
          "state": {
            "_view_name": "StyleView",
            "_model_name": "DescriptionStyleModel",
            "description_width": "",
            "_view_module": "@jupyter-widgets/base",
            "_model_module_version": "1.5.0",
            "_view_count": null,
            "_view_module_version": "1.2.0",
            "_model_module": "@jupyter-widgets/controls"
          }
        },
        "429a49b103ec4ea3bf5d34b7bec6643a": {
          "model_module": "@jupyter-widgets/base",
          "model_name": "LayoutModel",
          "state": {
            "_view_name": "LayoutView",
            "grid_template_rows": null,
            "right": null,
            "justify_content": null,
            "_view_module": "@jupyter-widgets/base",
            "overflow": null,
            "_model_module_version": "1.2.0",
            "_view_count": null,
            "flex_flow": null,
            "width": null,
            "min_width": null,
            "border": null,
            "align_items": null,
            "bottom": null,
            "_model_module": "@jupyter-widgets/base",
            "top": null,
            "grid_column": null,
            "overflow_y": null,
            "overflow_x": null,
            "grid_auto_flow": null,
            "grid_area": null,
            "grid_template_columns": null,
            "flex": null,
            "_model_name": "LayoutModel",
            "justify_items": null,
            "grid_row": null,
            "max_height": null,
            "align_content": null,
            "visibility": null,
            "align_self": null,
            "height": null,
            "min_height": null,
            "padding": null,
            "grid_auto_rows": null,
            "grid_gap": null,
            "max_width": null,
            "order": null,
            "_view_module_version": "1.2.0",
            "grid_template_areas": null,
            "object_position": null,
            "object_fit": null,
            "grid_auto_columns": null,
            "margin": null,
            "display": null,
            "left": null
          }
        },
        "84dc28241e824c0d8067eebb1e5eebea": {
          "model_module": "@jupyter-widgets/controls",
          "model_name": "HBoxModel",
          "state": {
            "_view_name": "HBoxView",
            "_dom_classes": [],
            "_model_name": "HBoxModel",
            "_view_module": "@jupyter-widgets/controls",
            "_model_module_version": "1.5.0",
            "_view_count": null,
            "_view_module_version": "1.5.0",
            "box_style": "",
            "layout": "IPY_MODEL_0bcd5ecb05304da891017428c14e1327",
            "_model_module": "@jupyter-widgets/controls",
            "children": [
              "IPY_MODEL_ab704a51a26b43bc928550865eb1333e",
              "IPY_MODEL_c7d2e98e8e33469b86ea1ca393351be4"
            ]
          }
        },
        "0bcd5ecb05304da891017428c14e1327": {
          "model_module": "@jupyter-widgets/base",
          "model_name": "LayoutModel",
          "state": {
            "_view_name": "LayoutView",
            "grid_template_rows": null,
            "right": null,
            "justify_content": null,
            "_view_module": "@jupyter-widgets/base",
            "overflow": null,
            "_model_module_version": "1.2.0",
            "_view_count": null,
            "flex_flow": null,
            "width": null,
            "min_width": null,
            "border": null,
            "align_items": null,
            "bottom": null,
            "_model_module": "@jupyter-widgets/base",
            "top": null,
            "grid_column": null,
            "overflow_y": null,
            "overflow_x": null,
            "grid_auto_flow": null,
            "grid_area": null,
            "grid_template_columns": null,
            "flex": null,
            "_model_name": "LayoutModel",
            "justify_items": null,
            "grid_row": null,
            "max_height": null,
            "align_content": null,
            "visibility": null,
            "align_self": null,
            "height": null,
            "min_height": null,
            "padding": null,
            "grid_auto_rows": null,
            "grid_gap": null,
            "max_width": null,
            "order": null,
            "_view_module_version": "1.2.0",
            "grid_template_areas": null,
            "object_position": null,
            "object_fit": null,
            "grid_auto_columns": null,
            "margin": null,
            "display": null,
            "left": null
          }
        },
        "ab704a51a26b43bc928550865eb1333e": {
          "model_module": "@jupyter-widgets/controls",
          "model_name": "FloatProgressModel",
          "state": {
            "_view_name": "ProgressView",
            "style": "IPY_MODEL_77a720f91a044c379a0e8084102482f4",
            "_dom_classes": [],
            "description": "100%",
            "_model_name": "FloatProgressModel",
            "bar_style": "success",
            "max": 9,
            "_view_module": "@jupyter-widgets/controls",
            "_model_module_version": "1.5.0",
            "value": 9,
            "_view_count": null,
            "_view_module_version": "1.5.0",
            "orientation": "horizontal",
            "min": 0,
            "description_tooltip": null,
            "_model_module": "@jupyter-widgets/controls",
            "layout": "IPY_MODEL_52f786db8236448a9cbd12c9dedcd425"
          }
        },
        "c7d2e98e8e33469b86ea1ca393351be4": {
          "model_module": "@jupyter-widgets/controls",
          "model_name": "HTMLModel",
          "state": {
            "_view_name": "HTMLView",
            "style": "IPY_MODEL_163ee33f1fb94e8889fe03a4b1ac460e",
            "_dom_classes": [],
            "description": "",
            "_model_name": "HTMLModel",
            "placeholder": "​",
            "_view_module": "@jupyter-widgets/controls",
            "_model_module_version": "1.5.0",
            "value": " 9/9 [00:01&lt;00:00,  6.48it/s]",
            "_view_count": null,
            "_view_module_version": "1.5.0",
            "description_tooltip": null,
            "_model_module": "@jupyter-widgets/controls",
            "layout": "IPY_MODEL_cb78e149fe534419925a15f019059f2c"
          }
        },
        "77a720f91a044c379a0e8084102482f4": {
          "model_module": "@jupyter-widgets/controls",
          "model_name": "ProgressStyleModel",
          "state": {
            "_view_name": "StyleView",
            "_model_name": "ProgressStyleModel",
            "description_width": "initial",
            "_view_module": "@jupyter-widgets/base",
            "_model_module_version": "1.5.0",
            "_view_count": null,
            "_view_module_version": "1.2.0",
            "bar_color": null,
            "_model_module": "@jupyter-widgets/controls"
          }
        },
        "52f786db8236448a9cbd12c9dedcd425": {
          "model_module": "@jupyter-widgets/base",
          "model_name": "LayoutModel",
          "state": {
            "_view_name": "LayoutView",
            "grid_template_rows": null,
            "right": null,
            "justify_content": null,
            "_view_module": "@jupyter-widgets/base",
            "overflow": null,
            "_model_module_version": "1.2.0",
            "_view_count": null,
            "flex_flow": null,
            "width": null,
            "min_width": null,
            "border": null,
            "align_items": null,
            "bottom": null,
            "_model_module": "@jupyter-widgets/base",
            "top": null,
            "grid_column": null,
            "overflow_y": null,
            "overflow_x": null,
            "grid_auto_flow": null,
            "grid_area": null,
            "grid_template_columns": null,
            "flex": null,
            "_model_name": "LayoutModel",
            "justify_items": null,
            "grid_row": null,
            "max_height": null,
            "align_content": null,
            "visibility": null,
            "align_self": null,
            "height": null,
            "min_height": null,
            "padding": null,
            "grid_auto_rows": null,
            "grid_gap": null,
            "max_width": null,
            "order": null,
            "_view_module_version": "1.2.0",
            "grid_template_areas": null,
            "object_position": null,
            "object_fit": null,
            "grid_auto_columns": null,
            "margin": null,
            "display": null,
            "left": null
          }
        },
        "163ee33f1fb94e8889fe03a4b1ac460e": {
          "model_module": "@jupyter-widgets/controls",
          "model_name": "DescriptionStyleModel",
          "state": {
            "_view_name": "StyleView",
            "_model_name": "DescriptionStyleModel",
            "description_width": "",
            "_view_module": "@jupyter-widgets/base",
            "_model_module_version": "1.5.0",
            "_view_count": null,
            "_view_module_version": "1.2.0",
            "_model_module": "@jupyter-widgets/controls"
          }
        },
        "cb78e149fe534419925a15f019059f2c": {
          "model_module": "@jupyter-widgets/base",
          "model_name": "LayoutModel",
          "state": {
            "_view_name": "LayoutView",
            "grid_template_rows": null,
            "right": null,
            "justify_content": null,
            "_view_module": "@jupyter-widgets/base",
            "overflow": null,
            "_model_module_version": "1.2.0",
            "_view_count": null,
            "flex_flow": null,
            "width": null,
            "min_width": null,
            "border": null,
            "align_items": null,
            "bottom": null,
            "_model_module": "@jupyter-widgets/base",
            "top": null,
            "grid_column": null,
            "overflow_y": null,
            "overflow_x": null,
            "grid_auto_flow": null,
            "grid_area": null,
            "grid_template_columns": null,
            "flex": null,
            "_model_name": "LayoutModel",
            "justify_items": null,
            "grid_row": null,
            "max_height": null,
            "align_content": null,
            "visibility": null,
            "align_self": null,
            "height": null,
            "min_height": null,
            "padding": null,
            "grid_auto_rows": null,
            "grid_gap": null,
            "max_width": null,
            "order": null,
            "_view_module_version": "1.2.0",
            "grid_template_areas": null,
            "object_position": null,
            "object_fit": null,
            "grid_auto_columns": null,
            "margin": null,
            "display": null,
            "left": null
          }
        },
        "9f147708738a48dd8577d6d6f0dc602c": {
          "model_module": "@jupyter-widgets/controls",
          "model_name": "HBoxModel",
          "state": {
            "_view_name": "HBoxView",
            "_dom_classes": [],
            "_model_name": "HBoxModel",
            "_view_module": "@jupyter-widgets/controls",
            "_model_module_version": "1.5.0",
            "_view_count": null,
            "_view_module_version": "1.5.0",
            "box_style": "",
            "layout": "IPY_MODEL_0913563e7aeb4d61acf7d91109e4ca1d",
            "_model_module": "@jupyter-widgets/controls",
            "children": [
              "IPY_MODEL_a904c20210854df797a752aad3d97f92",
              "IPY_MODEL_9c7791db541949db935039b2a82e3414"
            ]
          }
        },
        "0913563e7aeb4d61acf7d91109e4ca1d": {
          "model_module": "@jupyter-widgets/base",
          "model_name": "LayoutModel",
          "state": {
            "_view_name": "LayoutView",
            "grid_template_rows": null,
            "right": null,
            "justify_content": null,
            "_view_module": "@jupyter-widgets/base",
            "overflow": null,
            "_model_module_version": "1.2.0",
            "_view_count": null,
            "flex_flow": null,
            "width": null,
            "min_width": null,
            "border": null,
            "align_items": null,
            "bottom": null,
            "_model_module": "@jupyter-widgets/base",
            "top": null,
            "grid_column": null,
            "overflow_y": null,
            "overflow_x": null,
            "grid_auto_flow": null,
            "grid_area": null,
            "grid_template_columns": null,
            "flex": null,
            "_model_name": "LayoutModel",
            "justify_items": null,
            "grid_row": null,
            "max_height": null,
            "align_content": null,
            "visibility": null,
            "align_self": null,
            "height": null,
            "min_height": null,
            "padding": null,
            "grid_auto_rows": null,
            "grid_gap": null,
            "max_width": null,
            "order": null,
            "_view_module_version": "1.2.0",
            "grid_template_areas": null,
            "object_position": null,
            "object_fit": null,
            "grid_auto_columns": null,
            "margin": null,
            "display": null,
            "left": null
          }
        },
        "a904c20210854df797a752aad3d97f92": {
          "model_module": "@jupyter-widgets/controls",
          "model_name": "FloatProgressModel",
          "state": {
            "_view_name": "ProgressView",
            "style": "IPY_MODEL_2b69d2a8aea4418981a3d9be33cbf819",
            "_dom_classes": [],
            "description": "100%",
            "_model_name": "FloatProgressModel",
            "bar_style": "success",
            "max": 9,
            "_view_module": "@jupyter-widgets/controls",
            "_model_module_version": "1.5.0",
            "value": 9,
            "_view_count": null,
            "_view_module_version": "1.5.0",
            "orientation": "horizontal",
            "min": 0,
            "description_tooltip": null,
            "_model_module": "@jupyter-widgets/controls",
            "layout": "IPY_MODEL_cd1998a258e847b69dc56fe59e12733e"
          }
        },
        "9c7791db541949db935039b2a82e3414": {
          "model_module": "@jupyter-widgets/controls",
          "model_name": "HTMLModel",
          "state": {
            "_view_name": "HTMLView",
            "style": "IPY_MODEL_fcb372e9f4b44fd3bae971d1499b05b4",
            "_dom_classes": [],
            "description": "",
            "_model_name": "HTMLModel",
            "placeholder": "​",
            "_view_module": "@jupyter-widgets/controls",
            "_model_module_version": "1.5.0",
            "value": " 9/9 [00:02&lt;00:00,  4.16it/s]",
            "_view_count": null,
            "_view_module_version": "1.5.0",
            "description_tooltip": null,
            "_model_module": "@jupyter-widgets/controls",
            "layout": "IPY_MODEL_99e91320137e492d82d057a56154ad71"
          }
        },
        "2b69d2a8aea4418981a3d9be33cbf819": {
          "model_module": "@jupyter-widgets/controls",
          "model_name": "ProgressStyleModel",
          "state": {
            "_view_name": "StyleView",
            "_model_name": "ProgressStyleModel",
            "description_width": "initial",
            "_view_module": "@jupyter-widgets/base",
            "_model_module_version": "1.5.0",
            "_view_count": null,
            "_view_module_version": "1.2.0",
            "bar_color": null,
            "_model_module": "@jupyter-widgets/controls"
          }
        },
        "cd1998a258e847b69dc56fe59e12733e": {
          "model_module": "@jupyter-widgets/base",
          "model_name": "LayoutModel",
          "state": {
            "_view_name": "LayoutView",
            "grid_template_rows": null,
            "right": null,
            "justify_content": null,
            "_view_module": "@jupyter-widgets/base",
            "overflow": null,
            "_model_module_version": "1.2.0",
            "_view_count": null,
            "flex_flow": null,
            "width": null,
            "min_width": null,
            "border": null,
            "align_items": null,
            "bottom": null,
            "_model_module": "@jupyter-widgets/base",
            "top": null,
            "grid_column": null,
            "overflow_y": null,
            "overflow_x": null,
            "grid_auto_flow": null,
            "grid_area": null,
            "grid_template_columns": null,
            "flex": null,
            "_model_name": "LayoutModel",
            "justify_items": null,
            "grid_row": null,
            "max_height": null,
            "align_content": null,
            "visibility": null,
            "align_self": null,
            "height": null,
            "min_height": null,
            "padding": null,
            "grid_auto_rows": null,
            "grid_gap": null,
            "max_width": null,
            "order": null,
            "_view_module_version": "1.2.0",
            "grid_template_areas": null,
            "object_position": null,
            "object_fit": null,
            "grid_auto_columns": null,
            "margin": null,
            "display": null,
            "left": null
          }
        },
        "fcb372e9f4b44fd3bae971d1499b05b4": {
          "model_module": "@jupyter-widgets/controls",
          "model_name": "DescriptionStyleModel",
          "state": {
            "_view_name": "StyleView",
            "_model_name": "DescriptionStyleModel",
            "description_width": "",
            "_view_module": "@jupyter-widgets/base",
            "_model_module_version": "1.5.0",
            "_view_count": null,
            "_view_module_version": "1.2.0",
            "_model_module": "@jupyter-widgets/controls"
          }
        },
        "99e91320137e492d82d057a56154ad71": {
          "model_module": "@jupyter-widgets/base",
          "model_name": "LayoutModel",
          "state": {
            "_view_name": "LayoutView",
            "grid_template_rows": null,
            "right": null,
            "justify_content": null,
            "_view_module": "@jupyter-widgets/base",
            "overflow": null,
            "_model_module_version": "1.2.0",
            "_view_count": null,
            "flex_flow": null,
            "width": null,
            "min_width": null,
            "border": null,
            "align_items": null,
            "bottom": null,
            "_model_module": "@jupyter-widgets/base",
            "top": null,
            "grid_column": null,
            "overflow_y": null,
            "overflow_x": null,
            "grid_auto_flow": null,
            "grid_area": null,
            "grid_template_columns": null,
            "flex": null,
            "_model_name": "LayoutModel",
            "justify_items": null,
            "grid_row": null,
            "max_height": null,
            "align_content": null,
            "visibility": null,
            "align_self": null,
            "height": null,
            "min_height": null,
            "padding": null,
            "grid_auto_rows": null,
            "grid_gap": null,
            "max_width": null,
            "order": null,
            "_view_module_version": "1.2.0",
            "grid_template_areas": null,
            "object_position": null,
            "object_fit": null,
            "grid_auto_columns": null,
            "margin": null,
            "display": null,
            "left": null
          }
        },
        "8f267a5b86ad417dbb7d795a1f07d723": {
          "model_module": "@jupyter-widgets/controls",
          "model_name": "HBoxModel",
          "state": {
            "_view_name": "HBoxView",
            "_dom_classes": [],
            "_model_name": "HBoxModel",
            "_view_module": "@jupyter-widgets/controls",
            "_model_module_version": "1.5.0",
            "_view_count": null,
            "_view_module_version": "1.5.0",
            "box_style": "",
            "layout": "IPY_MODEL_3a28f1132afe44d0b5150217ab7a4634",
            "_model_module": "@jupyter-widgets/controls",
            "children": [
              "IPY_MODEL_8f7d5f6b4b3949c686994731562d78cf",
              "IPY_MODEL_7e5b6fe539a64b609b7c3496845c418b"
            ]
          }
        },
        "3a28f1132afe44d0b5150217ab7a4634": {
          "model_module": "@jupyter-widgets/base",
          "model_name": "LayoutModel",
          "state": {
            "_view_name": "LayoutView",
            "grid_template_rows": null,
            "right": null,
            "justify_content": null,
            "_view_module": "@jupyter-widgets/base",
            "overflow": null,
            "_model_module_version": "1.2.0",
            "_view_count": null,
            "flex_flow": null,
            "width": null,
            "min_width": null,
            "border": null,
            "align_items": null,
            "bottom": null,
            "_model_module": "@jupyter-widgets/base",
            "top": null,
            "grid_column": null,
            "overflow_y": null,
            "overflow_x": null,
            "grid_auto_flow": null,
            "grid_area": null,
            "grid_template_columns": null,
            "flex": null,
            "_model_name": "LayoutModel",
            "justify_items": null,
            "grid_row": null,
            "max_height": null,
            "align_content": null,
            "visibility": null,
            "align_self": null,
            "height": null,
            "min_height": null,
            "padding": null,
            "grid_auto_rows": null,
            "grid_gap": null,
            "max_width": null,
            "order": null,
            "_view_module_version": "1.2.0",
            "grid_template_areas": null,
            "object_position": null,
            "object_fit": null,
            "grid_auto_columns": null,
            "margin": null,
            "display": null,
            "left": null
          }
        },
        "8f7d5f6b4b3949c686994731562d78cf": {
          "model_module": "@jupyter-widgets/controls",
          "model_name": "FloatProgressModel",
          "state": {
            "_view_name": "ProgressView",
            "style": "IPY_MODEL_4d36814b76c341eda5744ec386be54c6",
            "_dom_classes": [],
            "description": "100%",
            "_model_name": "FloatProgressModel",
            "bar_style": "success",
            "max": 4860,
            "_view_module": "@jupyter-widgets/controls",
            "_model_module_version": "1.5.0",
            "value": 4860,
            "_view_count": null,
            "_view_module_version": "1.5.0",
            "orientation": "horizontal",
            "min": 0,
            "description_tooltip": null,
            "_model_module": "@jupyter-widgets/controls",
            "layout": "IPY_MODEL_50f4b1eb51224713a1dc323eac9a83ee"
          }
        },
        "7e5b6fe539a64b609b7c3496845c418b": {
          "model_module": "@jupyter-widgets/controls",
          "model_name": "HTMLModel",
          "state": {
            "_view_name": "HTMLView",
            "style": "IPY_MODEL_d3fbc2a3ae7047359cca1a43da282fcd",
            "_dom_classes": [],
            "description": "",
            "_model_name": "HTMLModel",
            "placeholder": "​",
            "_view_module": "@jupyter-widgets/controls",
            "_model_module_version": "1.5.0",
            "value": " 4860/4860 [14:38&lt;00:00,  5.53it/s]",
            "_view_count": null,
            "_view_module_version": "1.5.0",
            "description_tooltip": null,
            "_model_module": "@jupyter-widgets/controls",
            "layout": "IPY_MODEL_a202e2f7ad1e47eb8bc02efd1461b242"
          }
        },
        "4d36814b76c341eda5744ec386be54c6": {
          "model_module": "@jupyter-widgets/controls",
          "model_name": "ProgressStyleModel",
          "state": {
            "_view_name": "StyleView",
            "_model_name": "ProgressStyleModel",
            "description_width": "initial",
            "_view_module": "@jupyter-widgets/base",
            "_model_module_version": "1.5.0",
            "_view_count": null,
            "_view_module_version": "1.2.0",
            "bar_color": null,
            "_model_module": "@jupyter-widgets/controls"
          }
        },
        "50f4b1eb51224713a1dc323eac9a83ee": {
          "model_module": "@jupyter-widgets/base",
          "model_name": "LayoutModel",
          "state": {
            "_view_name": "LayoutView",
            "grid_template_rows": null,
            "right": null,
            "justify_content": null,
            "_view_module": "@jupyter-widgets/base",
            "overflow": null,
            "_model_module_version": "1.2.0",
            "_view_count": null,
            "flex_flow": null,
            "width": null,
            "min_width": null,
            "border": null,
            "align_items": null,
            "bottom": null,
            "_model_module": "@jupyter-widgets/base",
            "top": null,
            "grid_column": null,
            "overflow_y": null,
            "overflow_x": null,
            "grid_auto_flow": null,
            "grid_area": null,
            "grid_template_columns": null,
            "flex": null,
            "_model_name": "LayoutModel",
            "justify_items": null,
            "grid_row": null,
            "max_height": null,
            "align_content": null,
            "visibility": null,
            "align_self": null,
            "height": null,
            "min_height": null,
            "padding": null,
            "grid_auto_rows": null,
            "grid_gap": null,
            "max_width": null,
            "order": null,
            "_view_module_version": "1.2.0",
            "grid_template_areas": null,
            "object_position": null,
            "object_fit": null,
            "grid_auto_columns": null,
            "margin": null,
            "display": null,
            "left": null
          }
        },
        "d3fbc2a3ae7047359cca1a43da282fcd": {
          "model_module": "@jupyter-widgets/controls",
          "model_name": "DescriptionStyleModel",
          "state": {
            "_view_name": "StyleView",
            "_model_name": "DescriptionStyleModel",
            "description_width": "",
            "_view_module": "@jupyter-widgets/base",
            "_model_module_version": "1.5.0",
            "_view_count": null,
            "_view_module_version": "1.2.0",
            "_model_module": "@jupyter-widgets/controls"
          }
        },
        "a202e2f7ad1e47eb8bc02efd1461b242": {
          "model_module": "@jupyter-widgets/base",
          "model_name": "LayoutModel",
          "state": {
            "_view_name": "LayoutView",
            "grid_template_rows": null,
            "right": null,
            "justify_content": null,
            "_view_module": "@jupyter-widgets/base",
            "overflow": null,
            "_model_module_version": "1.2.0",
            "_view_count": null,
            "flex_flow": null,
            "width": null,
            "min_width": null,
            "border": null,
            "align_items": null,
            "bottom": null,
            "_model_module": "@jupyter-widgets/base",
            "top": null,
            "grid_column": null,
            "overflow_y": null,
            "overflow_x": null,
            "grid_auto_flow": null,
            "grid_area": null,
            "grid_template_columns": null,
            "flex": null,
            "_model_name": "LayoutModel",
            "justify_items": null,
            "grid_row": null,
            "max_height": null,
            "align_content": null,
            "visibility": null,
            "align_self": null,
            "height": null,
            "min_height": null,
            "padding": null,
            "grid_auto_rows": null,
            "grid_gap": null,
            "max_width": null,
            "order": null,
            "_view_module_version": "1.2.0",
            "grid_template_areas": null,
            "object_position": null,
            "object_fit": null,
            "grid_auto_columns": null,
            "margin": null,
            "display": null,
            "left": null
          }
        }
      }
    }
  },
  "cells": [
    {
      "cell_type": "code",
      "metadata": {
        "id": "AzvwPhxWr3np"
      },
      "source": [
        "import numpy as np\n",
        "import matplotlib.pyplot as plt\n",
        "from itertools import product\n",
        "from tqdm.notebook import tqdm\n",
        "from warnings import filterwarnings\n",
        "from scipy.optimize import differential_evolution\n",
        "\n",
        "%matplotlib inline"
      ],
      "execution_count": 1,
      "outputs": []
    },
    {
      "cell_type": "code",
      "metadata": {
        "id": "QGlF_qJK0PjL"
      },
      "source": [
        "filterwarnings('ignore')"
      ],
      "execution_count": 2,
      "outputs": []
    },
    {
      "cell_type": "markdown",
      "metadata": {
        "id": "po_TWcKxv3UX"
      },
      "source": [
        "# Задание\n",
        "При фиксированном seed=42 поразбирайтесь и поэкспериментируйте с параметрами алгоритма дифференциальной эволюции: strategy, popsize, tol, mutation, recombination и updating.\n",
        "Постройте графики количества итераций оптимизации функции ackley от значения параметра."
      ]
    },
    {
      "cell_type": "code",
      "metadata": {
        "id": "OXg9YX7DyDBt"
      },
      "source": [
        "def ackley(x):\n",
        "    arg1 = -0.2 * np.sqrt(0.5 * (x[0] ** 2 + x[1] ** 2))\n",
        "    arg2 = 0.5 * (np.cos(2. * np.pi * x[0]) + np.cos(2. * np.pi * x[1]))\n",
        "    return -20. * np.exp(arg1) - np.exp(arg2) + 20. + np.e"
      ],
      "execution_count": 3,
      "outputs": []
    },
    {
      "cell_type": "code",
      "metadata": {
        "id": "zGeVtezdyd4W"
      },
      "source": [
        "bounds = [(-10, 10), (-10, 10)]"
      ],
      "execution_count": 4,
      "outputs": []
    },
    {
      "cell_type": "code",
      "metadata": {
        "id": "BmnDayrpzB7z"
      },
      "source": [
        "param_grid = {'strategy': ['best1bin', 'best1exp', 'rand1exp',\n",
        "                           'randtobest1exp', 'currenttobest1exp',\n",
        "                           'best2exp', 'rand2exp', 'randtobest1bin',\n",
        "                           'currenttobest1bin', 'best2bin', 'rand2bin',\n",
        "                           'rand1bin'],\n",
        "              'popsize': np.arange(1, 31),\n",
        "              'tol': [0.1, 0.01, 0.001, 0.0001],\n",
        "              'mutation': np.arange(0.1, 1.0, 0.1),\n",
        "              'recombination': np.arange(0.1, 1.0, 0.1),\n",
        "              'updating': ['immediate', 'deferred']}"
      ],
      "execution_count": 5,
      "outputs": []
    },
    {
      "cell_type": "markdown",
      "metadata": {
        "id": "BWEZLIMz6jSA"
      },
      "source": [
        "Напишем функцию, которая проходится по всем значениям параметра и возвращает:\n",
        "1.   Значение параметра, при котором количество итераций минимально.\n",
        "2.   Минимальное количество итераций при наилучшем значении параметра.\n",
        "3.   Список – количество итераций при каждом из значений параметра."
      ]
    },
    {
      "cell_type": "code",
      "metadata": {
        "id": "RveTLgcd73wz"
      },
      "source": [
        "def find_n_iters(func, bounds, param_grid, param):\n",
        "    best_value = None\n",
        "    best_score = 1000000\n",
        "    iters = []\n",
        "    for value in tqdm(param_grid[param]):\n",
        "        params = {'func': func, 'bounds': bounds, param: value, 'seed': 42}\n",
        "        result = differential_evolution(**params)\n",
        "        iters.append(result['nit'])\n",
        "        if result['nit'] < best_score:\n",
        "            best_value = value\n",
        "            best_score = result['nit']\n",
        "    return best_value, best_score, iters"
      ],
      "execution_count": 6,
      "outputs": []
    },
    {
      "cell_type": "markdown",
      "metadata": {
        "id": "TsdMtIuC7abx"
      },
      "source": [
        "Напишем функцию, которая строит график зависимости количества итераций от значения параметра."
      ]
    },
    {
      "cell_type": "code",
      "metadata": {
        "id": "R8tVGTEp-VKR"
      },
      "source": [
        "def plot_n_iters(param_grid, param, iters, string_values=False):\n",
        "    plt.figure(figsize=(14, 12))\n",
        "    plt.grid()\n",
        "    if string_values:\n",
        "        y = np.arange(1, len(param_grid[param]) + 1)\n",
        "        plt.plot(iters, y)\n",
        "        plt.yticks(y, param_grid[param], rotation=45)\n",
        "    else:\n",
        "        plt.plot(iters, param_grid[param])\n",
        "    plt.xlabel('number of iterations', fontsize='x-large')\n",
        "    plt.ylabel(f'\"{param}\" parameter value', fontsize='x-large')\n",
        "    plt.show()"
      ],
      "execution_count": 7,
      "outputs": []
    },
    {
      "cell_type": "markdown",
      "metadata": {
        "id": "ZR8hrbl85mUM"
      },
      "source": [
        "## Параметр strategy"
      ]
    },
    {
      "cell_type": "code",
      "metadata": {
        "colab": {
          "base_uri": "https://localhost:8080/",
          "height": 66,
          "referenced_widgets": [
            "9c84d56179154250bc79cd147dd49c6d",
            "8577b243df38499abe12b8dcb4f91b0a",
            "4cfbcf2a61b345abab1a5a9310b53fad",
            "fe597293023e44848f5e7b09444a158c",
            "e9a0d5383ea84619b81bfdac794159c5",
            "6db8effad29848ea94e44cbae58374e5",
            "4b316eacc74d47e2b69c68d9c4f91321",
            "2b630c2a0d9347e18c5c266b13a3909c"
          ]
        },
        "id": "F46bCaeOCQhZ",
        "outputId": "baa9a948-7c61-41f9-cbde-667590151989"
      },
      "source": [
        "value, score, iters = find_n_iters(ackley, bounds, param_grid, 'strategy')"
      ],
      "execution_count": 8,
      "outputs": [
        {
          "output_type": "display_data",
          "data": {
            "application/vnd.jupyter.widget-view+json": {
              "model_id": "9c84d56179154250bc79cd147dd49c6d",
              "version_minor": 0,
              "version_major": 2
            },
            "text/plain": [
              "HBox(children=(FloatProgress(value=0.0, max=12.0), HTML(value='')))"
            ]
          },
          "metadata": {
            "tags": []
          }
        },
        {
          "output_type": "stream",
          "text": [
            "\n"
          ],
          "name": "stdout"
        }
      ]
    },
    {
      "cell_type": "code",
      "metadata": {
        "colab": {
          "base_uri": "https://localhost:8080/"
        },
        "id": "f7hmjFnLEQd9",
        "outputId": "7d524a1a-ff81-4e95-eb50-e264723c9d92"
      },
      "source": [
        "print(f'Минимальное кол-во итераций ({score}) достигается при strategy={value}')"
      ],
      "execution_count": 9,
      "outputs": [
        {
          "output_type": "stream",
          "text": [
            "Минимальное кол-во итераций (90) достигается при strategy=best1bin\n"
          ],
          "name": "stdout"
        }
      ]
    },
    {
      "cell_type": "code",
      "metadata": {
        "colab": {
          "base_uri": "https://localhost:8080/",
          "height": 718
        },
        "id": "TVGmStrSEhyL",
        "outputId": "ecf10ffe-bd83-4e64-dc0e-40a5e4a89abf"
      },
      "source": [
        "plot_n_iters(param_grid, 'strategy', iters, string_values=True)"
      ],
      "execution_count": 10,
      "outputs": [
        {
          "output_type": "display_data",
          "data": {
            "image/png": "[encoded data removed]",
            "text/plain": [
              "<Figure size 1008x864 with 1 Axes>"
            ]
          },
          "metadata": {
            "tags": [],
            "needs_background": "light"
          }
        }
      ]
    },
    {
      "cell_type": "markdown",
      "metadata": {
        "id": "HMNiMchfHf-j"
      },
      "source": [
        "Больше всего итераций (примерно в 5 раз больше, чем при любой другой стратегии) достигается при стратегиях currenttobest. Также стратегии 1 в среднем справляются лучше, чем стратегии 2, стратегии best в среднем справляются лучше, чем стратегии randtobest, а стратегии randtobest – лучше, чем стратегии rand."
      ]
    },
    {
      "cell_type": "markdown",
      "metadata": {
        "id": "Qp3krwdx5_4H"
      },
      "source": [
        "## Параметр popsize"
      ]
    },
    {
      "cell_type": "code",
      "metadata": {
        "colab": {
          "base_uri": "https://localhost:8080/",
          "height": 66,
          "referenced_widgets": [
            "7a6777500d564f1ebb46369a484a7bd6",
            "0f5cafb4e8cc4e0b8cb8ea64da38a58d",
            "5291cab13f674e78bbbc3ae16d2daba9",
            "78799614d0bb4fd1947db0bd577ae8af",
            "c442af2750e4430482b5c251c95a77b5",
            "f1f4b3a90a1c4b1d87ba56dd04c85a77",
            "358426ffbe774e5bb4545f226a68c10f",
            "af57b90d42064d7493dca5bae27a241e"
          ]
        },
        "id": "ZZAQjixzGWAr",
        "outputId": "369ae110-cf80-4f2b-8041-a21e9b854ee9"
      },
      "source": [
        "value, score, iters = find_n_iters(ackley, bounds, param_grid, 'popsize')"
      ],
      "execution_count": 11,
      "outputs": [
        {
          "output_type": "display_data",
          "data": {
            "application/vnd.jupyter.widget-view+json": {
              "model_id": "7a6777500d564f1ebb46369a484a7bd6",
              "version_minor": 0,
              "version_major": 2
            },
            "text/plain": [
              "HBox(children=(FloatProgress(value=0.0, max=30.0), HTML(value='')))"
            ]
          },
          "metadata": {
            "tags": []
          }
        },
        {
          "output_type": "stream",
          "text": [
            "\n"
          ],
          "name": "stdout"
        }
      ]
    },
    {
      "cell_type": "code",
      "metadata": {
        "colab": {
          "base_uri": "https://localhost:8080/"
        },
        "id": "nsbH836jGWA4",
        "outputId": "cf5250d6-a3ad-4564-a411-19a5ee5c6f87"
      },
      "source": [
        "print(f'Минимальное кол-во итераций ({score}) достигается при popsize={value}')"
      ],
      "execution_count": 12,
      "outputs": [
        {
          "output_type": "stream",
          "text": [
            "Минимальное кол-во итераций (7) достигается при popsize=1\n"
          ],
          "name": "stdout"
        }
      ]
    },
    {
      "cell_type": "code",
      "metadata": {
        "colab": {
          "base_uri": "https://localhost:8080/",
          "height": 718
        },
        "id": "6qWTbdpxGWA5",
        "outputId": "03cb1ab7-8ce5-4870-a171-6956963acbdd"
      },
      "source": [
        "plot_n_iters(param_grid, 'popsize', iters)"
      ],
      "execution_count": 13,
      "outputs": [
        {
          "output_type": "display_data",
          "data": {
            "image/png": "[encoded data removed]",
            "text/plain": [
              "<Figure size 1008x864 with 1 Axes>"
            ]
          },
          "metadata": {
            "tags": [],
            "needs_background": "light"
          }
        }
      ]
    },
    {
      "cell_type": "markdown",
      "metadata": {
        "id": "30rkJrfcI6mJ"
      },
      "source": [
        "Количество итераций наименьшее при popsize=1 или popsize=2 и резко возрастает (с 7 до 100!) при увеличении значения popsize с 2 до 5. При дальнейшем увеличении значения popsize до 30 количество итераций колеблется в диапазоне 85-100."
      ]
    },
    {
      "cell_type": "markdown",
      "metadata": {
        "id": "h-yK4Bdv6B1Y"
      },
      "source": [
        "## Параметр tol"
      ]
    },
    {
      "cell_type": "code",
      "metadata": {
        "colab": {
          "base_uri": "https://localhost:8080/",
          "height": 66,
          "referenced_widgets": [
            "2fc87e9150604df5873bfcb536f3971e",
            "3c46bd28b9ba486bad51f07df55062bb",
            "9f81ee9e32a94e07bf0098ea6253af74",
            "9373c9d5ce8a4bae8e6b3d765193204d",
            "30a03c98ff184285a4f6a9a399fd5b5b",
            "530480f4e6f04e60b5cf369633ffb51d",
            "5032a4b6f8d74727adbb7b55ae0e4acf",
            "429a49b103ec4ea3bf5d34b7bec6643a"
          ]
        },
        "id": "6cNkQzS9G5_5",
        "outputId": "3f4643b3-e1b6-4b6b-b217-dc673b0dff81"
      },
      "source": [
        "value, score, iters = find_n_iters(ackley, bounds, param_grid, 'tol')"
      ],
      "execution_count": 14,
      "outputs": [
        {
          "output_type": "display_data",
          "data": {
            "application/vnd.jupyter.widget-view+json": {
              "model_id": "2fc87e9150604df5873bfcb536f3971e",
              "version_minor": 0,
              "version_major": 2
            },
            "text/plain": [
              "HBox(children=(FloatProgress(value=0.0, max=4.0), HTML(value='')))"
            ]
          },
          "metadata": {
            "tags": []
          }
        },
        {
          "output_type": "stream",
          "text": [
            "\n"
          ],
          "name": "stdout"
        }
      ]
    },
    {
      "cell_type": "code",
      "metadata": {
        "colab": {
          "base_uri": "https://localhost:8080/"
        },
        "id": "YLwU_8zcG6AK",
        "outputId": "7b0a0a28-0ebf-4e54-d3e7-4782e43003ba"
      },
      "source": [
        "print(f'Минимальное кол-во итераций ({score}) достигается при tol={value}')"
      ],
      "execution_count": 15,
      "outputs": [
        {
          "output_type": "stream",
          "text": [
            "Минимальное кол-во итераций (90) достигается при tol=0.1\n"
          ],
          "name": "stdout"
        }
      ]
    },
    {
      "cell_type": "code",
      "metadata": {
        "colab": {
          "base_uri": "https://localhost:8080/",
          "height": 718
        },
        "id": "TT8DfL7TG6AK",
        "outputId": "7763db2a-1125-4106-cd84-75378e3fdd2b"
      },
      "source": [
        "plot_n_iters(param_grid, 'tol', iters)"
      ],
      "execution_count": 16,
      "outputs": [
        {
          "output_type": "display_data",
          "data": {
            "image/png": "[encoded data removed]",
            "text/plain": [
              "<Figure size 1008x864 with 1 Axes>"
            ]
          },
          "metadata": {
            "tags": [],
            "needs_background": "light"
          }
        }
      ]
    },
    {
      "cell_type": "markdown",
      "metadata": {
        "id": "ngYRfJekHbD8"
      },
      "source": [
        "Либо я неправильно подобрала значения параметра tol, либо он на количество итераций вообще не влияет."
      ]
    },
    {
      "cell_type": "markdown",
      "metadata": {
        "id": "5L595pnr6M1A"
      },
      "source": [
        "## Параметр mutation"
      ]
    },
    {
      "cell_type": "code",
      "metadata": {
        "colab": {
          "base_uri": "https://localhost:8080/",
          "height": 66,
          "referenced_widgets": [
            "84dc28241e824c0d8067eebb1e5eebea",
            "0bcd5ecb05304da891017428c14e1327",
            "ab704a51a26b43bc928550865eb1333e",
            "c7d2e98e8e33469b86ea1ca393351be4",
            "77a720f91a044c379a0e8084102482f4",
            "52f786db8236448a9cbd12c9dedcd425",
            "163ee33f1fb94e8889fe03a4b1ac460e",
            "cb78e149fe534419925a15f019059f2c"
          ]
        },
        "id": "kH3QR0WKKAM5",
        "outputId": "c8756749-689b-4699-8022-0d99ce8bdfec"
      },
      "source": [
        "value, score, iters = find_n_iters(ackley, bounds, param_grid, 'mutation')"
      ],
      "execution_count": 17,
      "outputs": [
        {
          "output_type": "display_data",
          "data": {
            "application/vnd.jupyter.widget-view+json": {
              "model_id": "84dc28241e824c0d8067eebb1e5eebea",
              "version_minor": 0,
              "version_major": 2
            },
            "text/plain": [
              "HBox(children=(FloatProgress(value=0.0, max=9.0), HTML(value='')))"
            ]
          },
          "metadata": {
            "tags": []
          }
        },
        {
          "output_type": "stream",
          "text": [
            "\n"
          ],
          "name": "stdout"
        }
      ]
    },
    {
      "cell_type": "code",
      "metadata": {
        "colab": {
          "base_uri": "https://localhost:8080/"
        },
        "id": "LInh3220KAM-",
        "outputId": "fb2e5172-f073-4395-9903-9c4f68f4db83"
      },
      "source": [
        "print(f'Минимальное кол-во итераций ({score}) достигается при mutation={value}')"
      ],
      "execution_count": 18,
      "outputs": [
        {
          "output_type": "stream",
          "text": [
            "Минимальное кол-во итераций (5) достигается при mutation=0.1\n"
          ],
          "name": "stdout"
        }
      ]
    },
    {
      "cell_type": "code",
      "metadata": {
        "colab": {
          "base_uri": "https://localhost:8080/",
          "height": 718
        },
        "id": "bx5cTLJjKAM_",
        "outputId": "0b2ee944-f2d8-415e-fa5f-f8d618f85826"
      },
      "source": [
        "plot_n_iters(param_grid, 'mutation', iters)"
      ],
      "execution_count": 19,
      "outputs": [
        {
          "output_type": "display_data",
          "data": {
            "image/png": "[encoded data removed]",
            "text/plain": [
              "<Figure size 1008x864 with 1 Axes>"
            ]
          },
          "metadata": {
            "tags": [],
            "needs_background": "light"
          }
        }
      ]
    },
    {
      "cell_type": "markdown",
      "metadata": {
        "id": "OJ3w8Zf_K1pS"
      },
      "source": [
        "Чем больше значение mutation, тем больше количество итераций."
      ]
    },
    {
      "cell_type": "markdown",
      "metadata": {
        "id": "Si6S_63x6O0Q"
      },
      "source": [
        "## Параметр recombination"
      ]
    },
    {
      "cell_type": "code",
      "metadata": {
        "colab": {
          "base_uri": "https://localhost:8080/",
          "height": 66,
          "referenced_widgets": [
            "9f147708738a48dd8577d6d6f0dc602c",
            "0913563e7aeb4d61acf7d91109e4ca1d",
            "a904c20210854df797a752aad3d97f92",
            "9c7791db541949db935039b2a82e3414",
            "2b69d2a8aea4418981a3d9be33cbf819",
            "cd1998a258e847b69dc56fe59e12733e",
            "fcb372e9f4b44fd3bae971d1499b05b4",
            "99e91320137e492d82d057a56154ad71"
          ]
        },
        "id": "DbesBmneK86p",
        "outputId": "e5c17828-8951-46f5-ef8e-11f3e95687f6"
      },
      "source": [
        "value, score, iters = find_n_iters(ackley, bounds, param_grid, 'recombination')"
      ],
      "execution_count": 20,
      "outputs": [
        {
          "output_type": "display_data",
          "data": {
            "application/vnd.jupyter.widget-view+json": {
              "model_id": "9f147708738a48dd8577d6d6f0dc602c",
              "version_minor": 0,
              "version_major": 2
            },
            "text/plain": [
              "HBox(children=(FloatProgress(value=0.0, max=9.0), HTML(value='')))"
            ]
          },
          "metadata": {
            "tags": []
          }
        },
        {
          "output_type": "stream",
          "text": [
            "\n"
          ],
          "name": "stdout"
        }
      ]
    },
    {
      "cell_type": "code",
      "metadata": {
        "colab": {
          "base_uri": "https://localhost:8080/"
        },
        "id": "7WJARtpRK863",
        "outputId": "2b633a6e-3d86-4cb6-eb16-e435b7027ebf"
      },
      "source": [
        "print(f'Минимальное кол-во итераций ({score}) достигается при recombination={value}')"
      ],
      "execution_count": 21,
      "outputs": [
        {
          "output_type": "stream",
          "text": [
            "Минимальное кол-во итераций (84) достигается при recombination=0.8\n"
          ],
          "name": "stdout"
        }
      ]
    },
    {
      "cell_type": "code",
      "metadata": {
        "colab": {
          "base_uri": "https://localhost:8080/",
          "height": 718
        },
        "id": "C9-_ZKweK864",
        "outputId": "efea0a8a-e053-44f2-9784-64b26da27308"
      },
      "source": [
        "plot_n_iters(param_grid, 'recombination', iters)"
      ],
      "execution_count": 22,
      "outputs": [
        {
          "output_type": "display_data",
          "data": {
            "image/png": "[encoded data removed]",
            "text/plain": [
              "<Figure size 1008x864 with 1 Axes>"
            ]
          },
          "metadata": {
            "tags": [],
            "needs_background": "light"
          }
        }
      ]
    },
    {
      "cell_type": "markdown",
      "metadata": {
        "id": "j0u_SLdiLsRO"
      },
      "source": [
        "С увеличением значения recombination с 0.1 до 0.8 уменьшается (но неравномерно) количество итераций. При recombination=0.9 количество итераций чуть-чуть больше, чем при recombination=0.8."
      ]
    },
    {
      "cell_type": "markdown",
      "metadata": {
        "id": "v0QoMdWV6Q_t"
      },
      "source": [
        "## Параметр updating\n",
        "Здесь всего 2 значения, поэтому использовать функцию `find_n_iters` или строить график нет смысла."
      ]
    },
    {
      "cell_type": "code",
      "metadata": {
        "colab": {
          "base_uri": "https://localhost:8080/"
        },
        "id": "88bkXo08MXZp",
        "outputId": "9e8cfb4c-c168-49fa-b291-983c73426c87"
      },
      "source": [
        "result = differential_evolution(ackley, bounds, seed=42)\n",
        "result"
      ],
      "execution_count": 23,
      "outputs": [
        {
          "output_type": "execute_result",
          "data": {
            "text/plain": [
              "     fun: 4.440892098500626e-16\n",
              " message: 'Optimization terminated successfully.'\n",
              "    nfev: 2793\n",
              "     nit: 90\n",
              " success: True\n",
              "       x: array([0., 0.])"
            ]
          },
          "metadata": {
            "tags": []
          },
          "execution_count": 23
        }
      ]
    },
    {
      "cell_type": "code",
      "metadata": {
        "colab": {
          "base_uri": "https://localhost:8080/"
        },
        "id": "y3UfwLdaMZoD",
        "outputId": "3d9211c4-a04d-4edc-d50c-3a248c9fc5de"
      },
      "source": [
        "result = differential_evolution(ackley, bounds, seed=42, updating='deferred')\n",
        "result"
      ],
      "execution_count": 24,
      "outputs": [
        {
          "output_type": "execute_result",
          "data": {
            "text/plain": [
              "     fun: 4.440892098500626e-16\n",
              " message: 'Optimization terminated successfully.'\n",
              "    nfev: 3753\n",
              "     nit: 122\n",
              " success: True\n",
              "       x: array([0., 0.])"
            ]
          },
          "metadata": {
            "tags": []
          },
          "execution_count": 24
        }
      ]
    },
    {
      "cell_type": "markdown",
      "metadata": {
        "id": "DwqMumdiPUME"
      },
      "source": [
        "При updating='deferred' количество итераций почти в полтора раза больше, чем при updating='immediate' (122 против 90)."
      ]
    },
    {
      "cell_type": "markdown",
      "metadata": {
        "id": "x5oLIbi_xJs2"
      },
      "source": [
        "# Дополнительное задание\n",
        "Найти множество параметров (strategy=..., ..., updating=...), которые требуют минимального количества итераций.<br>\n",
        "<br>\n",
        "Воспользуемся методом поиска по решётке. Чтобы grid search выполнялся какое-то разумное время (в предыдущей решётке 233280 комбинаций параметров – Colab даже на GPU будет считать это несколько часов. Как-то чересчур.), уменьшим размеры решётки:\n",
        "\n",
        "1.   Уберём из значений strategy половину стратегий, давших в предыдущем задании наибольшее количество итераций – это 'rand1exp', 'currenttobest1exp', 'best2exp', 'rand2exp', 'currenttobest1bin' и 'rand2bin'. Соответственно, оставшиеся у нас 6 наилучших стратегий – это 'best1bin', 'best1exp', 'randtobest1exp', 'randtobest1bin', 'best2bin' и 'rand1bin'.\n",
        "2.   Диапазон значений popsize сократим до 1-5, т. к., на графике из предыдущего задания видно, что дальнейшее увеличение значения popsize (с 5 до 30) не влияет заметно на количество итераций.\n",
        "3.   Уберём параметр tol, т. к., в предыдущем задании он на количество итераций вообще не влиял.\n",
        "\n",
        "233280 комбинаций параметров превратились в 4860! Это уже лучше."
      ]
    },
    {
      "cell_type": "code",
      "metadata": {
        "id": "hY6al4jGU6S5"
      },
      "source": [
        "# вместо параметра updating будем использовать параметр workers, т. к.:\n",
        "# 1) updating='immediate' и workers=1 – дефолтные значения\n",
        "# 2) согласно документации scipy, только значение updating='deferred' совместимо\n",
        "# с распараллеливанием, причём выставленное значение workers != 1\n",
        "# автоматически выставляет updating='deferred'\n",
        "# Т. е.:\n",
        "# workers=1 -> updating='immediate'\n",
        "# workers=-1 -> updating='deferred'\n",
        "\n",
        "param_grid = {'strategy': ['best1bin', 'best1exp', 'randtobest1exp',\n",
        "                           'randtobest1bin', 'best2bin', 'rand1bin'],\n",
        "              'popsize': np.arange(1, 6),\n",
        "              'mutation': np.arange(0.1, 1.0, 0.1),\n",
        "              'recombination': np.arange(0.1, 1.0, 0.1),\n",
        "              'workers': [1, -1]}"
      ],
      "execution_count": 25,
      "outputs": []
    },
    {
      "cell_type": "markdown",
      "metadata": {
        "id": "aTVFGJE2Xv0S"
      },
      "source": [
        "Напишем функцию для поиска по решётке, возвращающую словарь наилучших параметров и минимальное количество итераций, которое достигается при этих параметрах."
      ]
    },
    {
      "cell_type": "code",
      "metadata": {
        "id": "xF3La1I3xLxG"
      },
      "source": [
        "def grid_search(func, bounds, param_grid):\n",
        "    best_params = None\n",
        "    best_score = 1000000\n",
        "    combinations = list(\n",
        "        product(*(param_grid[key] for key in param_grid.keys()))\n",
        "        )\n",
        "    for combo in tqdm(combinations):\n",
        "        params = dict(zip(param_grid.keys(), combo))\n",
        "        arg_dict = {'func': func, 'bounds': bounds, 'seed': 42}\n",
        "        arg_dict.update(params)\n",
        "        result = differential_evolution(**arg_dict)\n",
        "        if result['nit'] < best_score:\n",
        "            best_params = params\n",
        "            best_score = result['nit']\n",
        "    return best_params, best_score"
      ],
      "execution_count": 26,
      "outputs": []
    },
    {
      "cell_type": "code",
      "metadata": {
        "colab": {
          "base_uri": "https://localhost:8080/",
          "height": 66,
          "referenced_widgets": [
            "8f267a5b86ad417dbb7d795a1f07d723",
            "3a28f1132afe44d0b5150217ab7a4634",
            "8f7d5f6b4b3949c686994731562d78cf",
            "7e5b6fe539a64b609b7c3496845c418b",
            "4d36814b76c341eda5744ec386be54c6",
            "50f4b1eb51224713a1dc323eac9a83ee",
            "d3fbc2a3ae7047359cca1a43da282fcd",
            "a202e2f7ad1e47eb8bc02efd1461b242"
          ]
        },
        "id": "D_uFe5pfdo_c",
        "outputId": "9bae4a7f-aa66-4092-acd1-9f0e5b0632f9"
      },
      "source": [
        "best_params, best_score = grid_search(ackley, bounds, param_grid)"
      ],
      "execution_count": 27,
      "outputs": [
        {
          "output_type": "display_data",
          "data": {
            "application/vnd.jupyter.widget-view+json": {
              "model_id": "8f267a5b86ad417dbb7d795a1f07d723",
              "version_minor": 0,
              "version_major": 2
            },
            "text/plain": [
              "HBox(children=(FloatProgress(value=0.0, max=4860.0), HTML(value='')))"
            ]
          },
          "metadata": {
            "tags": []
          }
        },
        {
          "output_type": "stream",
          "text": [
            "\n"
          ],
          "name": "stdout"
        }
      ]
    },
    {
      "cell_type": "code",
      "metadata": {
        "colab": {
          "base_uri": "https://localhost:8080/"
        },
        "id": "zSQMHuRgeHBn",
        "outputId": "2000e937-26ac-4e94-e159-5d599fcde417"
      },
      "source": [
        "best_params"
      ],
      "execution_count": 28,
      "outputs": [
        {
          "output_type": "execute_result",
          "data": {
            "text/plain": [
              "{'mutation': 0.1,\n",
              " 'popsize': 1,\n",
              " 'recombination': 0.9,\n",
              " 'strategy': 'best1bin',\n",
              " 'workers': 1}"
            ]
          },
          "metadata": {
            "tags": []
          },
          "execution_count": 28
        }
      ]
    },
    {
      "cell_type": "code",
      "metadata": {
        "colab": {
          "base_uri": "https://localhost:8080/"
        },
        "id": "3El4GkUR2LSS",
        "outputId": "b14df21d-4e8f-4da9-cb38-c0edb7cc6fcc"
      },
      "source": [
        "best_score"
      ],
      "execution_count": 29,
      "outputs": [
        {
          "output_type": "execute_result",
          "data": {
            "text/plain": [
              "3"
            ]
          },
          "metadata": {
            "tags": []
          },
          "execution_count": 29
        }
      ]
    },
    {
      "cell_type": "markdown",
      "metadata": {
        "id": "Tn_Kta6t2b0p"
      },
      "source": [
        "Множество параметров, при котором достигается минимальное количество итераций:\n",
        "\n",
        "*   **strategy**='best1bin'\n",
        "*   **popsize**=1\n",
        "*   **tol**=0.01 (дефолтное значение)\n",
        "*   **mutation**=0.1\n",
        "*   **recombination**=0.9\n",
        "*   **updating**='immediate'\n",
        "\n",
        "Всё соответствует результатам, полученным в предыдущем задании при оптимизации каждого параметра по отдельности.<br>\n",
        "Минимальное количество итераций: 3.<br>\n",
        "<br>\n",
        "Проверяем."
      ]
    },
    {
      "cell_type": "code",
      "metadata": {
        "colab": {
          "base_uri": "https://localhost:8080/"
        },
        "id": "ZkurR_072Oeu",
        "outputId": "cf853747-046e-496f-d81a-a71292f2ae93"
      },
      "source": [
        "result = differential_evolution(ackley, bounds, popsize=1, mutation=0.1,\n",
        "                                recombination=0.9, seed=42)\n",
        "result"
      ],
      "execution_count": 30,
      "outputs": [
        {
          "output_type": "execute_result",
          "data": {
            "text/plain": [
              "     fun: 5.38186418753828\n",
              "     jac: array([-7.03437308e-05,  1.20792265e-05])\n",
              " message: 'Optimization terminated successfully.'\n",
              "    nfev: 56\n",
              "     nit: 3\n",
              " success: True\n",
              "       x: array([-0.98241736, -1.96461645])"
            ]
          },
          "metadata": {
            "tags": []
          },
          "execution_count": 30
        }
      ]
    },
    {
      "cell_type": "markdown",
      "metadata": {
        "id": "fB4xea4A4smF"
      },
      "source": [
        "Всё сошлось!"
      ]
    }
  ]
}
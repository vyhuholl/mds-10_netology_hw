{
  "nbformat": 4,
  "nbformat_minor": 0,
  "metadata": {
    "colab": {
      "name": "MDS_HW7_PichuzhkinaOV.ipynb",
      "provenance": [],
      "collapsed_sections": []
    },
    "kernelspec": {
      "name": "python3",
      "display_name": "Python 3"
    },
    "accelerator": "GPU"
  },
  "cells": [
    {
      "cell_type": "code",
      "metadata": {
        "id": "PO7o6KK1laNO"
      },
      "source": [
        "import numpy as np\n",
        "import scipy.stats\n",
        "import matplotlib.pyplot as plt"
      ],
      "execution_count": 1,
      "outputs": []
    },
    {
      "cell_type": "markdown",
      "metadata": {
        "id": "gtwRMRETh75r"
      },
      "source": [
        "# Уровень 0\n",
        "*   Задание 1:\n",
        "\n",
        "Монетку подбрасывают 15 раз, найдите вероятность выпадения простого числа орлов. <br>\n",
        "<br>\n",
        "Простые числа <= 15: 2, 3, 5, 7, 11, 13, вероятность выпадения орла: 0.5. Вероятность выпадения простого числа орлов:\n",
        "$$P = 15! * \\left(\\frac{0.5^{2}*(1 - 0.5^{13})}{2!*13!} + \\frac{0.5^{3}*(1 - 0.5^{12})}{3!*12!} + \\frac{0.5^{5}*(1 - 0.5^{10})}{5!*10!} + \\frac{0.5^{7}*(1 - 0.5^{8})}{7!*8!} + \\frac{0.5^{11}*(1 - 0.5^{4})}{11!*4!} + \\frac{0.5^{13}*(1 - 0.5^{2})}{13!*2!}\\right)$$"
      ]
    },
    {
      "cell_type": "code",
      "metadata": {
        "colab": {
          "base_uri": "https://localhost:8080/"
        },
        "id": "Gk-CoD_wnwyi",
        "outputId": "35346380-6942-492d-e39a-871bcad02867"
      },
      "source": [
        "np.sum(\n",
        "    np.array(\n",
        "        list(map(\n",
        "            lambda x: 0.5 ** x * 0.5 ** (15 - x) * np.math.factorial(15) / (\n",
        "                np.math.factorial(x) * np.math.factorial(15 - x)),\n",
        "            [2]))))"
      ],
      "execution_count": 2,
      "outputs": [
        {
          "output_type": "execute_result",
          "data": {
            "text/plain": [
              "0.003204345703125"
            ]
          },
          "metadata": {
            "tags": []
          },
          "execution_count": 2
        }
      ]
    },
    {
      "cell_type": "markdown",
      "metadata": {
        "id": "Dr9gxFwHnkA4"
      },
      "source": [
        "Ответ: 0.003204345703125\n",
        "\n",
        "*   Задание 2:\n",
        "\n",
        "Создайте свою дискретную случайную величину с не менее, чем 10 значениями. Просемплируйте 1000 случайных значений, постройте гистограмму плотности распределения по выборке, посчитайте среднее, дисперсию и медиану."
      ]
    },
    {
      "cell_type": "code",
      "metadata": {
        "id": "KRsl4n8EdOAA"
      },
      "source": [
        "rv = scipy.stats.randint.rvs(0, 10, size=1000)"
      ],
      "execution_count": 4,
      "outputs": []
    },
    {
      "cell_type": "code",
      "metadata": {
        "colab": {
          "base_uri": "https://localhost:8080/",
          "height": 265
        },
        "id": "iD83jpoGxisQ",
        "outputId": "5903ec6c-2710-4663-dbb9-6cf545704899"
      },
      "source": [
        "plt.hist(rv, 10, density=True, color='Green')\n",
        "plt.show()"
      ],
      "execution_count": 5,
      "outputs": [
        {
          "output_type": "display_data",
          "data": {
            "image/png": "[encoded data removed]",
            "text/plain": [
              "<Figure size 432x288 with 1 Axes>"
            ]
          },
          "metadata": {
            "tags": [],
            "needs_background": "light"
          }
        }
      ]
    },
    {
      "cell_type": "code",
      "metadata": {
        "colab": {
          "base_uri": "https://localhost:8080/"
        },
        "id": "A6xuZge1yCUE",
        "outputId": "277f874f-3d52-47fe-9a08-f6ffa25cc32f"
      },
      "source": [
        "np.mean(rv)"
      ],
      "execution_count": 7,
      "outputs": [
        {
          "output_type": "execute_result",
          "data": {
            "text/plain": [
              "4.495"
            ]
          },
          "metadata": {
            "tags": []
          },
          "execution_count": 7
        }
      ]
    },
    {
      "cell_type": "code",
      "metadata": {
        "colab": {
          "base_uri": "https://localhost:8080/"
        },
        "id": "UElrcSLb1yYD",
        "outputId": "f490ff30-59ed-4425-eeba-441057e41b74"
      },
      "source": [
        "np.var(rv)"
      ],
      "execution_count": 8,
      "outputs": [
        {
          "output_type": "execute_result",
          "data": {
            "text/plain": [
              "8.327975000000002"
            ]
          },
          "metadata": {
            "tags": []
          },
          "execution_count": 8
        }
      ]
    },
    {
      "cell_type": "code",
      "metadata": {
        "colab": {
          "base_uri": "https://localhost:8080/"
        },
        "id": "Y7M_Y90u11od",
        "outputId": "d768cd9c-8fe1-41c3-94bb-b16ee01e3024"
      },
      "source": [
        "np.median(rv)"
      ],
      "execution_count": 9,
      "outputs": [
        {
          "output_type": "execute_result",
          "data": {
            "text/plain": [
              "5.0"
            ]
          },
          "metadata": {
            "tags": []
          },
          "execution_count": 9
        }
      ]
    },
    {
      "cell_type": "markdown",
      "metadata": {
        "id": "1RIypkAXiEyu"
      },
      "source": [
        "# Уровень 1\n",
        "*   Задание 3:\n",
        "\n",
        "Пусть брошены 3 уравновешенные монеты.\n",
        "\n",
        "Рассмотрим 3 события:\n",
        "\n",
        "A1 - монеты 1 и 2 упали одной и той же стороной;\n",
        "\n",
        "A2 - монеты 2 и 3 упали одной и той же стороной;\n",
        "\n",
        "A3 - монеты 1 и 3 упали одной и той же стороной.\n",
        "\n",
        "Покажите, почему эти 3 события (A1, A2, A3) являются попарно независимыми, но не являются независимыми в совокупности.<br>\n",
        "<br>\n",
        "Вероятность любого из этих трёх событий:\n",
        "$$P(A_i)=0.25 + 0.25=0.5$$\n",
        "(вероятность того, что 2 монеты упадут орлом + вероятность того, что 2 монеты упадут решкой)<br>\n",
        "Вероятность любых двух из этих трёх событий:\n",
        "$$P(A_i\\cap A_j)=0.125 + 0.125 = 0.25 = P(A_i)*P(A_j)$$\n",
        "(вероятность того, что все монеты упадут орлом + вероятность того, что все монеты упадут решкой)<br>\n",
        "Следовательно, эти 3 события являются попарно независимыми.<br>\n",
        "Вероятность всех трёх событий равна вероятности любых двух (т. к., первые два события уже включают в себя третье). Следовательно, эти 3 события не являются независимыми в совокупности.\n",
        "*   Задание 4 (формула полной вероятности):\n",
        "\n",
        "В магазин привезли устройства с 3-х разных предприятий.\n",
        "\n",
        "Соотношение устройств следующее: 20% - продукция первого предприятия, 30% - продукция второго предприятия, 50% - продукция третьего предприятия; далее, 10% продукции первого предприятия высшего сорта, на втором предприятии - 5% и на третьем - 20% продукции высшего сорта.\n",
        "\n",
        "Найти вероятность того, что случайно купленная новая продукция окажется высшего сорта.<br>\n",
        "<br>\n",
        "Вероятность:\n",
        "$$P = 0.2*0.1 + 0.3*0.05 + 0.5*0.2 = 0.135$$\n"
      ]
    }
  ]
}